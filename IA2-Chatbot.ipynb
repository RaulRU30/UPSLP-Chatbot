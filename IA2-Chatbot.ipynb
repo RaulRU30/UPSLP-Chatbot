{
  "nbformat": 4,
  "nbformat_minor": 0,
  "metadata": {
    "colab": {
      "provenance": [],
      "toc_visible": true,
      "mount_file_id": "1sQ3aZhRwj4ATcX6NdzG8c-jQv_5WGAVG",
      "authorship_tag": "ABX9TyMgCY6WG3tJbXlASxD6aAZl",
      "include_colab_link": true
    },
    "kernelspec": {
      "name": "python3",
      "display_name": "Python 3"
    },
    "language_info": {
      "name": "python"
    }
  },
  "cells": [
    {
      "cell_type": "markdown",
      "metadata": {
        "id": "view-in-github",
        "colab_type": "text"
      },
      "source": [
        "<a href=\"https://colab.research.google.com/github/RaulRU30/UPSLP-Chatbot/blob/main/IA2-Chatbot.ipynb\" target=\"_parent\"><img src=\"https://colab.research.google.com/assets/colab-badge.svg\" alt=\"Open In Colab\"/></a>"
      ]
    },
    {
      "cell_type": "markdown",
      "source": [
        "# Poli-Chatbot\n",
        "\n",
        "##### Autor: Raúl Reyes Urbina\n",
        "\n",
        "\n",
        "---\n",
        "\n",
        "\n",
        "Proyecto para el primer parcial de la materia de Inteligencia Artificial II, diseñado para responder preguntas frecuentes relacionadas con la UPSLP.\n",
        "\n",
        "\n",
        "---\n",
        "\n",
        "\n",
        "\n",
        "## Ejemplos de Preguntas por Categoría\n",
        "\n",
        "La siguiente tabla muestra una pregunta de ejemplo por cada categoría del chatbot. Estas preguntas están diseñadas para coincidir con los patrones regex adaptados a texto *stemmizado*.\n",
        "\n",
        "| Pregunta                 | Ejemplo                                                  |\n",
        "|--------------------------|----------------------------------------------------------------------|\n",
        "| Inscripciones semestre | ¿Cuándo son las inscripciones para otoño 2025?                      |\n",
        "| Ficha de pago          | ¿Cómo obtengo mi ficha de pago?                                     |\n",
        "| Pago cursos de verano  | ¿Cómo pago los cursos de verano?                                    |\n",
        "| Fechas cursos de verano| ¿Cuándo son los cursos de verano?                                   |\n",
        "| Dirección universidad  | ¿Cuál es la dirección de la UPSLP?                                  |\n",
        "| Contacto universidad   | ¿A qué correo puedo escribir?                                       |\n",
        "| Días festivos          | ¿Qué días no hay clases?                                            |\n",
        "| Rector universidad     | ¿Quién es el rector de la UPSLP?                                    |\n",
        "| Fundación universidad   | ¿Cuándo se fundó la UPSLP?                                          |\n",
        "| Oferta académica       | ¿Qué carreras ofrece la universidad?                               |\n",
        "| Admisión               | ¿Cómo me puedo inscribir a la uni?                                 |\n",
        "| Calendario escolar     | ¿Dónde consulto el calendario escolar?                             |\n",
        "| Ayuda general          | ¿Me puedes ayudar?                                                 |\n"
      ],
      "metadata": {
        "id": "AfR2zHNqtQse"
      }
    },
    {
      "cell_type": "code",
      "execution_count": 2,
      "metadata": {
        "id": "ZrevtS3wSb9v"
      },
      "outputs": [],
      "source": [
        "import json\n",
        "import re\n",
        "import sys\n",
        "import unicodedata\n",
        "from typing import Tuple"
      ]
    },
    {
      "cell_type": "code",
      "source": [
        "import nltk\n",
        "from nltk.corpus import stopwords\n",
        "from nltk.stem import SnowballStemmer"
      ],
      "metadata": {
        "id": "WW4VlzvTuWwa"
      },
      "execution_count": 3,
      "outputs": []
    },
    {
      "cell_type": "code",
      "source": [
        "from google.colab import drive\n",
        "drive.mount('/content/drive')"
      ],
      "metadata": {
        "colab": {
          "base_uri": "https://localhost:8080/"
        },
        "id": "1iWycZj8ukrh",
        "outputId": "21288de7-ce42-4eea-e144-f7f1bc039f5e"
      },
      "execution_count": null,
      "outputs": [
        {
          "output_type": "stream",
          "name": "stdout",
          "text": [
            "Drive already mounted at /content/drive; to attempt to forcibly remount, call drive.mount(\"/content/drive\", force_remount=True).\n"
          ]
        }
      ]
    },
    {
      "cell_type": "code",
      "source": [
        "# Descarga de informacion de NLTK\n",
        "try:\n",
        "    nltk.data.find(\"tokenizers/punkt\")\n",
        "except LookupError:\n",
        "    nltk.download(\"punkt\")\n",
        "\n",
        "try:\n",
        "    nltk.data.find(\"corpora/stopwords\")\n",
        "except LookupError:\n",
        "    nltk.download(\"stopwords\")"
      ],
      "metadata": {
        "id": "fscrxfgkuvy_",
        "colab": {
          "base_uri": "https://localhost:8080/"
        },
        "outputId": "dd601a54-18dc-474f-bb46-5f64ebb4a68b"
      },
      "execution_count": 4,
      "outputs": [
        {
          "output_type": "stream",
          "name": "stderr",
          "text": [
            "[nltk_data] Downloading package punkt to /root/nltk_data...\n",
            "[nltk_data]   Unzipping tokenizers/punkt.zip.\n",
            "[nltk_data] Downloading package stopwords to /root/nltk_data...\n",
            "[nltk_data]   Unzipping corpora/stopwords.zip.\n"
          ]
        }
      ]
    },
    {
      "cell_type": "code",
      "source": [
        "# Clase encargada de procesar el texto para que pueda ser interpretado por las\n",
        "# expresiones regulares, aplica normalizacion, filtrado de stop workds y\n",
        "# stemmizacion\n",
        "\n",
        "class TextProcessor:\n",
        "\n",
        "    def __init__(self):\n",
        "        language = \"spanish\"\n",
        "        self.stemmer = SnowballStemmer(language)\n",
        "        self.stop_words = set(stopwords.words(language))\n",
        "\n",
        "    def normalize_text(self, text: str) -> str:\n",
        "        text = unicodedata.normalize(\"NFD\", text)\n",
        "        text = \"\".join(char for char in text if unicodedata.category(char) != \"Mn\")\n",
        "        return text.lower()\n",
        "\n",
        "    def remove_stopwords(self, text: str) -> str:\n",
        "        words = text.split()\n",
        "        filtered_words = [word for word in words if word.lower() not in self.stop_words]\n",
        "        return \" \".join(filtered_words)\n",
        "\n",
        "    def apply_stemming(self, text: str) -> str:\n",
        "        words = text.split()\n",
        "        stemmed_words = [self.stemmer.stem(word) for word in words]\n",
        "        return \" \".join(stemmed_words)\n",
        "\n",
        "    def process_text(self, text: str) -> str:\n",
        "        text = self.normalize_text(text)\n",
        "        text = self.remove_stopwords(text)\n",
        "        text = self.apply_stemming(text)\n",
        "        print(\"Texto procesado: \" + text)\n",
        "        return text"
      ],
      "metadata": {
        "id": "A0MW3kOQu6lA"
      },
      "execution_count": 5,
      "outputs": []
    },
    {
      "cell_type": "code",
      "source": [
        "# Clase encargada de manejar la lectura de la KB en json, procesar el input del\n",
        "# usuario y hacer match con alguna expresion regular.\n",
        "class RuleBasedChatbot:\n",
        "\n",
        "    def __init__(self, rules_file):\n",
        "        self.text_processor = TextProcessor()\n",
        "        self.rules = []\n",
        "        self.default_response = (\n",
        "            \"Lo siento, no entiendo tu pregunta. ¿Podrías reformularla?\"\n",
        "        )\n",
        "\n",
        "        self.load_rules_from_file(rules_file)\n",
        "\n",
        "    def load_rules_from_file(self, file_path: str) -> None:\n",
        "        try:\n",
        "            with open(file_path, \"r\", encoding=\"utf-8\") as file:\n",
        "                data = json.load(file)\n",
        "                self.rules = data.get(\"regex_chatbot\", [])\n",
        "        except FileNotFoundError:\n",
        "            print(f\"Archivo {file_path} no encontrado.\")\n",
        "            sys.exit(1)\n",
        "        except json.JSONDecodeError:\n",
        "            print(f\"Error al leer el archivo {file_path}. Formato JSON inválido.\")\n",
        "            sys.exit(1)\n",
        "\n",
        "    def get_response(self, user_input: str) -> Tuple[str, bool]:\n",
        "        processed_input = self.text_processor.process_text(user_input)\n",
        "        original_input = self.text_processor.normalize_text(user_input)\n",
        "\n",
        "        for rule in self.rules:\n",
        "            pattern = rule[\"pattern\"]\n",
        "\n",
        "            if re.search(pattern, processed_input, re.IGNORECASE):\n",
        "                return rule[\"respuesta\"], True\n",
        "\n",
        "            if re.search(pattern, original_input, re.IGNORECASE):\n",
        "                return rule[\"respuesta\"], True\n",
        "\n",
        "        return self.default_response, False\n",
        "\n",
        "    def set_default_response(self, response: str) -> None:\n",
        "        self.default_response = response"
      ],
      "metadata": {
        "id": "pvMMa0yDvAe2"
      },
      "execution_count": 6,
      "outputs": []
    },
    {
      "cell_type": "code",
      "source": [
        "# Clase manager del chatbot, se encarga de mantener el ciclo de ejecucion corriendo\n",
        "# asi como manejar el input/output del usuario\n",
        "class ChatbotManager:\n",
        "\n",
        "    def __init__(self, chatbot: RuleBasedChatbot):\n",
        "        self.chatbot = chatbot\n",
        "        self.conversation_history = []\n",
        "        self.running = False\n",
        "\n",
        "    def start_conversation(self) -> None:\n",
        "        print(\"=\" * 60)\n",
        "        print(\"POLI CHATBOT\")\n",
        "        print(\"=\" * 60)\n",
        "        print(\"Escribe 'salir', 'exit' o 'quit' para terminar.\")\n",
        "        print(\"Escribe 'ayuda' para ver comandos disponibles.\")\n",
        "        print(\"-\" * 60)\n",
        "\n",
        "        self.running = True\n",
        "\n",
        "        while self.running:\n",
        "            try:\n",
        "                user_input = input(\"\\nTú: \").strip()\n",
        "\n",
        "                if not user_input:\n",
        "                    continue\n",
        "\n",
        "                if self._handle_commands(user_input):\n",
        "                    continue\n",
        "\n",
        "                response, found = self.chatbot.get_response(user_input)\n",
        "\n",
        "                status_icon = \"✅\" if found else \"❓\"\n",
        "                print(f\"\\n🤖 Bot {status_icon}: {response}\")\n",
        "\n",
        "            except KeyboardInterrupt:\n",
        "                print(\"\\n\\n👋 ¡Hasta luego!\")\n",
        "                break\n",
        "            except Exception as e:\n",
        "                print(f\"\\n❌ Error: {e}\")\n",
        "\n",
        "    def _handle_commands(self, user_input: str) -> bool:\n",
        "        command = user_input.lower()\n",
        "\n",
        "        if command in [\"salir\", \"exit\", \"quit\"]:\n",
        "            print(\"\\n ¡Gracias por usar el chatbot! Hasta luego.\")\n",
        "            self.running = False\n",
        "            return True\n",
        "\n",
        "        elif command == \"ayuda\":\n",
        "            self._show_help()\n",
        "            return True\n",
        "\n",
        "        return False\n",
        "\n",
        "    def _show_help(self) -> None:\n",
        "        \"\"\"Muestra ayuda disponible\"\"\"\n",
        "        print(\"\\n COMANDOS DISPONIBLES:\")\n",
        "        print(\"• 'ayuda' - Muestra este mensaje\")\n",
        "        print(\"• 'salir' - Termina la conversacion\")\n",
        "        print(\"\\n EJEMPLOS DE PREGUNTAS:\")\n",
        "        print(\"• ¿Cuándo son las inscripciones para otoño 2025?\")\n",
        "        print(\"• ¿Cómo obtengo mi ficha de pago?\")\n",
        "        print(\"• ¿Cuándo son los cursos de verano?\")\n",
        "        print(\"• ¿Cuál es la dirección de la UPSLP?\")\n",
        "        print(\"• ¿A qué correo puedo escribir?\")\n",
        "        print(\"• ¿Quién es el rector de la universidad?\")\n",
        "        print(\"• ¿Cuáles son los días festivos?\")\n",
        "        print(\"• ¿Qué carreras ofrece la universidad?\")\n"
      ],
      "metadata": {
        "id": "_f3tLl7EvMgp"
      },
      "execution_count": 7,
      "outputs": []
    },
    {
      "cell_type": "code",
      "source": [
        "# Clase main donde se inicializa el chatbot\n",
        "\n",
        "def main():\n",
        "    file_path = \"/content/drive/MyDrive/Colab Notebooks/base_conocimiento.json\"\n",
        "    github_file_path = \"https://github.com/RaulRU30/UPSLP-Chatbot/blob/main/base_conocimiento.json\"\n",
        "    chatbot = RuleBasedChatbot(github_file_path)\n",
        "\n",
        "    manager = ChatbotManager(chatbot)\n",
        "    manager.start_conversation()\n",
        "\n",
        "\n",
        "if __name__ == \"__main__\":\n",
        "    main()"
      ],
      "metadata": {
        "colab": {
          "base_uri": "https://localhost:8080/",
          "height": 1000
        },
        "id": "q83C0OU2vN3A",
        "outputId": "34abbb02-025a-41c4-c259-d075c422bdd3"
      },
      "execution_count": 9,
      "outputs": [
        {
          "output_type": "stream",
          "name": "stderr",
          "text": [
            "ERROR:root:Internal Python error in the inspect module.\n",
            "Below is the traceback from this internal error.\n",
            "\n"
          ]
        },
        {
          "output_type": "stream",
          "name": "stdout",
          "text": [
            "Archivo https://github.com/RaulRU30/UPSLP-Chatbot/blob/main/base_conocimiento.json no encontrado.\n",
            "Traceback (most recent call last):\n",
            "  File \"/tmp/ipython-input-6-1742902639.py\", line 16, in load_rules_from_file\n",
            "    with open(file_path, \"r\", encoding=\"utf-8\") as file:\n",
            "         ^^^^^^^^^^^^^^^^^^^^^^^^^^^^^^^^^^^^^^\n",
            "FileNotFoundError: [Errno 2] No such file or directory: 'https://github.com/RaulRU30/UPSLP-Chatbot/blob/main/base_conocimiento.json'\n",
            "\n",
            "During handling of the above exception, another exception occurred:\n",
            "\n",
            "Traceback (most recent call last):\n",
            "  File \"/usr/local/lib/python3.11/dist-packages/IPython/core/interactiveshell.py\", line 3553, in run_code\n",
            "    exec(code_obj, self.user_global_ns, self.user_ns)\n",
            "  File \"/tmp/ipython-input-9-1751833291.py\", line 13, in <cell line: 0>\n",
            "    main()\n",
            "  File \"/tmp/ipython-input-9-1751833291.py\", line 6, in main\n",
            "    chatbot = RuleBasedChatbot(github_file_path)\n",
            "              ^^^^^^^^^^^^^^^^^^^^^^^^^^^^^^^^^^\n",
            "  File \"/tmp/ipython-input-6-1742902639.py\", line 12, in __init__\n",
            "    self.load_rules_from_file(rules_file)\n",
            "  File \"/tmp/ipython-input-6-1742902639.py\", line 21, in load_rules_from_file\n",
            "    sys.exit(1)\n",
            "SystemExit: 1\n",
            "\n",
            "During handling of the above exception, another exception occurred:\n",
            "\n",
            "Traceback (most recent call last):\n",
            "  File \"/usr/local/lib/python3.11/dist-packages/IPython/core/ultratb.py\", line 1101, in get_records\n",
            "    return _fixed_getinnerframes(etb, number_of_lines_of_context, tb_offset)\n",
            "           ^^^^^^^^^^^^^^^^^^^^^^^^^^^^^^^^^^^^^^^^^^^^^^^^^^^^^^^^^^^^^^^^^\n",
            "  File \"/usr/local/lib/python3.11/dist-packages/IPython/core/ultratb.py\", line 248, in wrapped\n",
            "    return f(*args, **kwargs)\n",
            "           ^^^^^^^^^^^^^^^^^^\n",
            "  File \"/usr/local/lib/python3.11/dist-packages/IPython/core/ultratb.py\", line 281, in _fixed_getinnerframes\n",
            "    records = fix_frame_records_filenames(inspect.getinnerframes(etb, context))\n",
            "                                          ^^^^^^^^^^^^^^^^^^^^^^^^^^^^^^^^^^^^\n",
            "  File \"/usr/lib/python3.11/inspect.py\", line 1739, in getinnerframes\n",
            "    traceback_info = getframeinfo(tb, context)\n",
            "                     ^^^^^^^^^^^^^^^^^^^^^^^^^\n",
            "  File \"/usr/lib/python3.11/inspect.py\", line 1671, in getframeinfo\n",
            "    lineno = frame.f_lineno\n",
            "             ^^^^^^^^^^^^^^\n",
            "AttributeError: 'tuple' object has no attribute 'f_lineno'\n"
          ]
        },
        {
          "output_type": "error",
          "ename": "TypeError",
          "evalue": "object of type 'NoneType' has no len()",
          "traceback": [
            "\u001b[0;31m---------------------------------------------------------------------------\u001b[0m",
            "\u001b[0;31mFileNotFoundError\u001b[0m                         Traceback (most recent call last)",
            "\u001b[0;32m/tmp/ipython-input-6-1742902639.py\u001b[0m in \u001b[0;36mload_rules_from_file\u001b[0;34m(self, file_path)\u001b[0m\n\u001b[1;32m     15\u001b[0m         \u001b[0;32mtry\u001b[0m\u001b[0;34m:\u001b[0m\u001b[0;34m\u001b[0m\u001b[0;34m\u001b[0m\u001b[0m\n\u001b[0;32m---> 16\u001b[0;31m             \u001b[0;32mwith\u001b[0m \u001b[0mopen\u001b[0m\u001b[0;34m(\u001b[0m\u001b[0mfile_path\u001b[0m\u001b[0;34m,\u001b[0m \u001b[0;34m\"r\"\u001b[0m\u001b[0;34m,\u001b[0m \u001b[0mencoding\u001b[0m\u001b[0;34m=\u001b[0m\u001b[0;34m\"utf-8\"\u001b[0m\u001b[0;34m)\u001b[0m \u001b[0;32mas\u001b[0m \u001b[0mfile\u001b[0m\u001b[0;34m:\u001b[0m\u001b[0;34m\u001b[0m\u001b[0;34m\u001b[0m\u001b[0m\n\u001b[0m\u001b[1;32m     17\u001b[0m                 \u001b[0mdata\u001b[0m \u001b[0;34m=\u001b[0m \u001b[0mjson\u001b[0m\u001b[0;34m.\u001b[0m\u001b[0mload\u001b[0m\u001b[0;34m(\u001b[0m\u001b[0mfile\u001b[0m\u001b[0;34m)\u001b[0m\u001b[0;34m\u001b[0m\u001b[0;34m\u001b[0m\u001b[0m\n",
            "\u001b[0;31mFileNotFoundError\u001b[0m: [Errno 2] No such file or directory: 'https://github.com/RaulRU30/UPSLP-Chatbot/blob/main/base_conocimiento.json'",
            "\nDuring handling of the above exception, another exception occurred:\n",
            "\u001b[0;31mSystemExit\u001b[0m                                Traceback (most recent call last)",
            "    \u001b[0;31m[... skipping hidden 1 frame]\u001b[0m\n",
            "\u001b[0;32m/tmp/ipython-input-9-1751833291.py\u001b[0m in \u001b[0;36m<cell line: 0>\u001b[0;34m()\u001b[0m\n\u001b[1;32m     12\u001b[0m \u001b[0;32mif\u001b[0m \u001b[0m__name__\u001b[0m \u001b[0;34m==\u001b[0m \u001b[0;34m\"__main__\"\u001b[0m\u001b[0;34m:\u001b[0m\u001b[0;34m\u001b[0m\u001b[0;34m\u001b[0m\u001b[0m\n\u001b[0;32m---> 13\u001b[0;31m     \u001b[0mmain\u001b[0m\u001b[0;34m(\u001b[0m\u001b[0;34m)\u001b[0m\u001b[0;34m\u001b[0m\u001b[0;34m\u001b[0m\u001b[0m\n\u001b[0m",
            "\u001b[0;32m/tmp/ipython-input-9-1751833291.py\u001b[0m in \u001b[0;36mmain\u001b[0;34m()\u001b[0m\n\u001b[1;32m      5\u001b[0m     \u001b[0mgithub_file_path\u001b[0m \u001b[0;34m=\u001b[0m \u001b[0;34m\"https://github.com/RaulRU30/UPSLP-Chatbot/blob/main/base_conocimiento.json\"\u001b[0m\u001b[0;34m\u001b[0m\u001b[0;34m\u001b[0m\u001b[0m\n\u001b[0;32m----> 6\u001b[0;31m     \u001b[0mchatbot\u001b[0m \u001b[0;34m=\u001b[0m \u001b[0mRuleBasedChatbot\u001b[0m\u001b[0;34m(\u001b[0m\u001b[0mgithub_file_path\u001b[0m\u001b[0;34m)\u001b[0m\u001b[0;34m\u001b[0m\u001b[0;34m\u001b[0m\u001b[0m\n\u001b[0m\u001b[1;32m      7\u001b[0m \u001b[0;34m\u001b[0m\u001b[0m\n",
            "\u001b[0;32m/tmp/ipython-input-6-1742902639.py\u001b[0m in \u001b[0;36m__init__\u001b[0;34m(self, rules_file)\u001b[0m\n\u001b[1;32m     11\u001b[0m \u001b[0;34m\u001b[0m\u001b[0m\n\u001b[0;32m---> 12\u001b[0;31m         \u001b[0mself\u001b[0m\u001b[0;34m.\u001b[0m\u001b[0mload_rules_from_file\u001b[0m\u001b[0;34m(\u001b[0m\u001b[0mrules_file\u001b[0m\u001b[0;34m)\u001b[0m\u001b[0;34m\u001b[0m\u001b[0;34m\u001b[0m\u001b[0m\n\u001b[0m\u001b[1;32m     13\u001b[0m \u001b[0;34m\u001b[0m\u001b[0m\n",
            "\u001b[0;32m/tmp/ipython-input-6-1742902639.py\u001b[0m in \u001b[0;36mload_rules_from_file\u001b[0;34m(self, file_path)\u001b[0m\n\u001b[1;32m     20\u001b[0m             \u001b[0mprint\u001b[0m\u001b[0;34m(\u001b[0m\u001b[0;34mf\"Archivo {file_path} no encontrado.\"\u001b[0m\u001b[0;34m)\u001b[0m\u001b[0;34m\u001b[0m\u001b[0;34m\u001b[0m\u001b[0m\n\u001b[0;32m---> 21\u001b[0;31m             \u001b[0msys\u001b[0m\u001b[0;34m.\u001b[0m\u001b[0mexit\u001b[0m\u001b[0;34m(\u001b[0m\u001b[0;36m1\u001b[0m\u001b[0;34m)\u001b[0m\u001b[0;34m\u001b[0m\u001b[0;34m\u001b[0m\u001b[0m\n\u001b[0m\u001b[1;32m     22\u001b[0m         \u001b[0;32mexcept\u001b[0m \u001b[0mjson\u001b[0m\u001b[0;34m.\u001b[0m\u001b[0mJSONDecodeError\u001b[0m\u001b[0;34m:\u001b[0m\u001b[0;34m\u001b[0m\u001b[0;34m\u001b[0m\u001b[0m\n",
            "\u001b[0;31mSystemExit\u001b[0m: 1",
            "\nDuring handling of the above exception, another exception occurred:\n",
            "\u001b[0;31mTypeError\u001b[0m                                 Traceback (most recent call last)",
            "    \u001b[0;31m[... skipping hidden 1 frame]\u001b[0m\n",
            "\u001b[0;32m/usr/local/lib/python3.11/dist-packages/IPython/core/interactiveshell.py\u001b[0m in \u001b[0;36mshowtraceback\u001b[0;34m(self, exc_tuple, filename, tb_offset, exception_only, running_compiled_code)\u001b[0m\n\u001b[1;32m   2090\u001b[0m                     stb = ['An exception has occurred, use %tb to see '\n\u001b[1;32m   2091\u001b[0m                            'the full traceback.\\n']\n\u001b[0;32m-> 2092\u001b[0;31m                     stb.extend(self.InteractiveTB.get_exception_only(etype,\n\u001b[0m\u001b[1;32m   2093\u001b[0m                                                                      value))\n\u001b[1;32m   2094\u001b[0m                 \u001b[0;32melse\u001b[0m\u001b[0;34m:\u001b[0m\u001b[0;34m\u001b[0m\u001b[0;34m\u001b[0m\u001b[0m\n",
            "\u001b[0;32m/usr/local/lib/python3.11/dist-packages/IPython/core/ultratb.py\u001b[0m in \u001b[0;36mget_exception_only\u001b[0;34m(self, etype, value)\u001b[0m\n\u001b[1;32m    752\u001b[0m         \u001b[0mvalue\u001b[0m \u001b[0;34m:\u001b[0m \u001b[0mexception\u001b[0m \u001b[0mvalue\u001b[0m\u001b[0;34m\u001b[0m\u001b[0;34m\u001b[0m\u001b[0m\n\u001b[1;32m    753\u001b[0m         \"\"\"\n\u001b[0;32m--> 754\u001b[0;31m         \u001b[0;32mreturn\u001b[0m \u001b[0mListTB\u001b[0m\u001b[0;34m.\u001b[0m\u001b[0mstructured_traceback\u001b[0m\u001b[0;34m(\u001b[0m\u001b[0mself\u001b[0m\u001b[0;34m,\u001b[0m \u001b[0metype\u001b[0m\u001b[0;34m,\u001b[0m \u001b[0mvalue\u001b[0m\u001b[0;34m)\u001b[0m\u001b[0;34m\u001b[0m\u001b[0;34m\u001b[0m\u001b[0m\n\u001b[0m\u001b[1;32m    755\u001b[0m \u001b[0;34m\u001b[0m\u001b[0m\n\u001b[1;32m    756\u001b[0m     \u001b[0;32mdef\u001b[0m \u001b[0mshow_exception_only\u001b[0m\u001b[0;34m(\u001b[0m\u001b[0mself\u001b[0m\u001b[0;34m,\u001b[0m \u001b[0metype\u001b[0m\u001b[0;34m,\u001b[0m \u001b[0mevalue\u001b[0m\u001b[0;34m)\u001b[0m\u001b[0;34m:\u001b[0m\u001b[0;34m\u001b[0m\u001b[0;34m\u001b[0m\u001b[0m\n",
            "\u001b[0;32m/usr/local/lib/python3.11/dist-packages/IPython/core/ultratb.py\u001b[0m in \u001b[0;36mstructured_traceback\u001b[0;34m(self, etype, evalue, etb, tb_offset, context)\u001b[0m\n\u001b[1;32m    627\u001b[0m             \u001b[0mchained_exceptions_tb_offset\u001b[0m \u001b[0;34m=\u001b[0m \u001b[0;36m0\u001b[0m\u001b[0;34m\u001b[0m\u001b[0;34m\u001b[0m\u001b[0m\n\u001b[1;32m    628\u001b[0m             out_list = (\n\u001b[0;32m--> 629\u001b[0;31m                 self.structured_traceback(\n\u001b[0m\u001b[1;32m    630\u001b[0m                     \u001b[0metype\u001b[0m\u001b[0;34m,\u001b[0m \u001b[0mevalue\u001b[0m\u001b[0;34m,\u001b[0m \u001b[0;34m(\u001b[0m\u001b[0metb\u001b[0m\u001b[0;34m,\u001b[0m \u001b[0mchained_exc_ids\u001b[0m\u001b[0;34m)\u001b[0m\u001b[0;34m,\u001b[0m\u001b[0;34m\u001b[0m\u001b[0;34m\u001b[0m\u001b[0m\n\u001b[1;32m    631\u001b[0m                     chained_exceptions_tb_offset, context)\n",
            "\u001b[0;32m/usr/local/lib/python3.11/dist-packages/IPython/core/ultratb.py\u001b[0m in \u001b[0;36mstructured_traceback\u001b[0;34m(self, etype, value, tb, tb_offset, number_of_lines_of_context)\u001b[0m\n\u001b[1;32m   1365\u001b[0m         \u001b[0;32melse\u001b[0m\u001b[0;34m:\u001b[0m\u001b[0;34m\u001b[0m\u001b[0;34m\u001b[0m\u001b[0m\n\u001b[1;32m   1366\u001b[0m             \u001b[0mself\u001b[0m\u001b[0;34m.\u001b[0m\u001b[0mtb\u001b[0m \u001b[0;34m=\u001b[0m \u001b[0mtb\u001b[0m\u001b[0;34m\u001b[0m\u001b[0;34m\u001b[0m\u001b[0m\n\u001b[0;32m-> 1367\u001b[0;31m         return FormattedTB.structured_traceback(\n\u001b[0m\u001b[1;32m   1368\u001b[0m             self, etype, value, tb, tb_offset, number_of_lines_of_context)\n\u001b[1;32m   1369\u001b[0m \u001b[0;34m\u001b[0m\u001b[0m\n",
            "\u001b[0;32m/usr/local/lib/python3.11/dist-packages/IPython/core/ultratb.py\u001b[0m in \u001b[0;36mstructured_traceback\u001b[0;34m(self, etype, value, tb, tb_offset, number_of_lines_of_context)\u001b[0m\n\u001b[1;32m   1265\u001b[0m         \u001b[0;32mif\u001b[0m \u001b[0mmode\u001b[0m \u001b[0;32min\u001b[0m \u001b[0mself\u001b[0m\u001b[0;34m.\u001b[0m\u001b[0mverbose_modes\u001b[0m\u001b[0;34m:\u001b[0m\u001b[0;34m\u001b[0m\u001b[0;34m\u001b[0m\u001b[0m\n\u001b[1;32m   1266\u001b[0m             \u001b[0;31m# Verbose modes need a full traceback\u001b[0m\u001b[0;34m\u001b[0m\u001b[0;34m\u001b[0m\u001b[0m\n\u001b[0;32m-> 1267\u001b[0;31m             return VerboseTB.structured_traceback(\n\u001b[0m\u001b[1;32m   1268\u001b[0m                 \u001b[0mself\u001b[0m\u001b[0;34m,\u001b[0m \u001b[0metype\u001b[0m\u001b[0;34m,\u001b[0m \u001b[0mvalue\u001b[0m\u001b[0;34m,\u001b[0m \u001b[0mtb\u001b[0m\u001b[0;34m,\u001b[0m \u001b[0mtb_offset\u001b[0m\u001b[0;34m,\u001b[0m \u001b[0mnumber_of_lines_of_context\u001b[0m\u001b[0;34m\u001b[0m\u001b[0;34m\u001b[0m\u001b[0m\n\u001b[1;32m   1269\u001b[0m             )\n",
            "\u001b[0;32m/usr/local/lib/python3.11/dist-packages/IPython/core/ultratb.py\u001b[0m in \u001b[0;36mstructured_traceback\u001b[0;34m(self, etype, evalue, etb, tb_offset, number_of_lines_of_context)\u001b[0m\n\u001b[1;32m   1122\u001b[0m         \u001b[0;34m\"\"\"Return a nice text document describing the traceback.\"\"\"\u001b[0m\u001b[0;34m\u001b[0m\u001b[0;34m\u001b[0m\u001b[0m\n\u001b[1;32m   1123\u001b[0m \u001b[0;34m\u001b[0m\u001b[0m\n\u001b[0;32m-> 1124\u001b[0;31m         formatted_exception = self.format_exception_as_a_whole(etype, evalue, etb, number_of_lines_of_context,\n\u001b[0m\u001b[1;32m   1125\u001b[0m                                                                tb_offset)\n\u001b[1;32m   1126\u001b[0m \u001b[0;34m\u001b[0m\u001b[0m\n",
            "\u001b[0;32m/usr/local/lib/python3.11/dist-packages/IPython/core/ultratb.py\u001b[0m in \u001b[0;36mformat_exception_as_a_whole\u001b[0;34m(self, etype, evalue, etb, number_of_lines_of_context, tb_offset)\u001b[0m\n\u001b[1;32m   1080\u001b[0m \u001b[0;34m\u001b[0m\u001b[0m\n\u001b[1;32m   1081\u001b[0m \u001b[0;34m\u001b[0m\u001b[0m\n\u001b[0;32m-> 1082\u001b[0;31m         \u001b[0mlast_unique\u001b[0m\u001b[0;34m,\u001b[0m \u001b[0mrecursion_repeat\u001b[0m \u001b[0;34m=\u001b[0m \u001b[0mfind_recursion\u001b[0m\u001b[0;34m(\u001b[0m\u001b[0morig_etype\u001b[0m\u001b[0;34m,\u001b[0m \u001b[0mevalue\u001b[0m\u001b[0;34m,\u001b[0m \u001b[0mrecords\u001b[0m\u001b[0;34m)\u001b[0m\u001b[0;34m\u001b[0m\u001b[0;34m\u001b[0m\u001b[0m\n\u001b[0m\u001b[1;32m   1083\u001b[0m \u001b[0;34m\u001b[0m\u001b[0m\n\u001b[1;32m   1084\u001b[0m         \u001b[0mframes\u001b[0m \u001b[0;34m=\u001b[0m \u001b[0mself\u001b[0m\u001b[0;34m.\u001b[0m\u001b[0mformat_records\u001b[0m\u001b[0;34m(\u001b[0m\u001b[0mrecords\u001b[0m\u001b[0;34m,\u001b[0m \u001b[0mlast_unique\u001b[0m\u001b[0;34m,\u001b[0m \u001b[0mrecursion_repeat\u001b[0m\u001b[0;34m)\u001b[0m\u001b[0;34m\u001b[0m\u001b[0;34m\u001b[0m\u001b[0m\n",
            "\u001b[0;32m/usr/local/lib/python3.11/dist-packages/IPython/core/ultratb.py\u001b[0m in \u001b[0;36mfind_recursion\u001b[0;34m(etype, value, records)\u001b[0m\n\u001b[1;32m    380\u001b[0m     \u001b[0;31m# first frame (from in to out) that looks different.\u001b[0m\u001b[0;34m\u001b[0m\u001b[0;34m\u001b[0m\u001b[0m\n\u001b[1;32m    381\u001b[0m     \u001b[0;32mif\u001b[0m \u001b[0;32mnot\u001b[0m \u001b[0mis_recursion_error\u001b[0m\u001b[0;34m(\u001b[0m\u001b[0metype\u001b[0m\u001b[0;34m,\u001b[0m \u001b[0mvalue\u001b[0m\u001b[0;34m,\u001b[0m \u001b[0mrecords\u001b[0m\u001b[0;34m)\u001b[0m\u001b[0;34m:\u001b[0m\u001b[0;34m\u001b[0m\u001b[0;34m\u001b[0m\u001b[0m\n\u001b[0;32m--> 382\u001b[0;31m         \u001b[0;32mreturn\u001b[0m \u001b[0mlen\u001b[0m\u001b[0;34m(\u001b[0m\u001b[0mrecords\u001b[0m\u001b[0;34m)\u001b[0m\u001b[0;34m,\u001b[0m \u001b[0;36m0\u001b[0m\u001b[0;34m\u001b[0m\u001b[0;34m\u001b[0m\u001b[0m\n\u001b[0m\u001b[1;32m    383\u001b[0m \u001b[0;34m\u001b[0m\u001b[0m\n\u001b[1;32m    384\u001b[0m     \u001b[0;31m# Select filename, lineno, func_name to track frames with\u001b[0m\u001b[0;34m\u001b[0m\u001b[0;34m\u001b[0m\u001b[0m\n",
            "\u001b[0;31mTypeError\u001b[0m: object of type 'NoneType' has no len()"
          ]
        }
      ]
    }
  ]
}
