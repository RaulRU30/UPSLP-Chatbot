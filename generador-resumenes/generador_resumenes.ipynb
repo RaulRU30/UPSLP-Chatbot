{
  "cells": [
    {
      "cell_type": "code",
      "execution_count": 1,
      "metadata": {
        "colab": {
          "base_uri": "https://localhost:8080/"
        },
        "id": "QLazVeIW1l8G",
        "outputId": "ef5b92f3-4b39-46e3-d529-2173b8f47c35"
      },
      "outputs": [
        {
          "name": "stdout",
          "output_type": "stream",
          "text": [
            "Collecting sentence_splitter\n",
            "  Downloading sentence_splitter-1.4-py2.py3-none-any.whl.metadata (2.8 kB)\n",
            "Requirement already satisfied: regex>=2017.12.12 in /workspace/UPSLP-Chatbot/.venv/lib/python3.12/site-packages (from sentence_splitter) (2024.11.6)\n",
            "Downloading sentence_splitter-1.4-py2.py3-none-any.whl (44 kB)\n",
            "Installing collected packages: sentence_splitter\n",
            "Successfully installed sentence_splitter-1.4\n",
            "Note: you may need to restart the kernel to use updated packages.\n"
          ]
        }
      ],
      "source": [
        "%pip install sentence_splitter"
      ]
    },
    {
      "cell_type": "code",
      "execution_count": 2,
      "metadata": {
        "id": "M-g_YvD41ddu"
      },
      "outputs": [],
      "source": [
        "import nltk\n",
        "from sklearn.feature_extraction.text import TfidfVectorizer\n",
        "from sentence_splitter import SentenceSplitter\n",
        "import numpy as np\n",
        "import pandas as pd"
      ]
    },
    {
      "cell_type": "code",
      "execution_count": 3,
      "metadata": {
        "colab": {
          "base_uri": "https://localhost:8080/"
        },
        "id": "6FnsxfN81yPL",
        "outputId": "691f0822-22be-4e75-e460-0b23fbf435cf"
      },
      "outputs": [
        {
          "ename": "ModuleNotFoundError",
          "evalue": "No module named 'google'",
          "output_type": "error",
          "traceback": [
            "\u001b[31m---------------------------------------------------------------------------\u001b[39m",
            "\u001b[31mModuleNotFoundError\u001b[39m                       Traceback (most recent call last)",
            "\u001b[36mCell\u001b[39m\u001b[36m \u001b[39m\u001b[32mIn[3]\u001b[39m\u001b[32m, line 1\u001b[39m\n\u001b[32m----> \u001b[39m\u001b[32m1\u001b[39m \u001b[38;5;28;01mfrom\u001b[39;00m\u001b[38;5;250m \u001b[39m\u001b[34;01mgoogle\u001b[39;00m\u001b[34;01m.\u001b[39;00m\u001b[34;01mcolab\u001b[39;00m\u001b[38;5;250m \u001b[39m\u001b[38;5;28;01mimport\u001b[39;00m drive\n\u001b[32m      2\u001b[39m drive.mount(\u001b[33m'\u001b[39m\u001b[33m/content/drive\u001b[39m\u001b[33m'\u001b[39m)\n",
            "\u001b[31mModuleNotFoundError\u001b[39m: No module named 'google'"
          ]
        }
      ],
      "source": [
        "from google.colab import drive\n",
        "drive.mount('/content/drive')"
      ]
    },
    {
      "cell_type": "code",
      "execution_count": 4,
      "metadata": {
        "id": "j599NmqK2K6P"
      },
      "outputs": [],
      "source": [
        "#ruta_archivo = '/content/drive/MyDrive/Colab Notebooks/turing.txt'\n",
        "ruta_archivo = \"turing.txt\""
      ]
    },
    {
      "cell_type": "code",
      "execution_count": 5,
      "metadata": {
        "id": "eZV9K53r66et"
      },
      "outputs": [],
      "source": [
        "def imprimir_oraciones(oraciones, puntuaciones):\n",
        "\n",
        "    indices_ordenados = np.argsort(puntuaciones)[::-1]\n",
        "\n",
        "    print(\"Oraciones ordenadas por puntuacion TF-IDF:\\n\")\n",
        "    for idx in indices_ordenados:\n",
        "        print(f\"{idx + 1} Puntuación: {puntuaciones[idx]:.4f} → {oraciones[idx]}\\n\")"
      ]
    },
    {
      "cell_type": "code",
      "execution_count": 6,
      "metadata": {
        "id": "g1TkmkB38hbe"
      },
      "outputs": [],
      "source": [
        "def segmentar_oraciones(texto):\n",
        "    splitter = SentenceSplitter(language='es')\n",
        "    texto = texto.replace('\\n', ' ').replace('\\r', '')\n",
        "    oraciones = splitter.split(texto)\n",
        "\n",
        "    oraciones = [o.strip() for o in oraciones if o.strip()]\n",
        "    return oraciones"
      ]
    },
    {
      "cell_type": "code",
      "execution_count": 7,
      "metadata": {
        "id": "Q9HABJwN2KLs"
      },
      "outputs": [],
      "source": [
        "def generar_resumen(texto):\n",
        "\n",
        "    numero_oraciones = 48\n",
        "\n",
        "    # Separacion de oraciones\n",
        "    oraciones = segmentar_oraciones(texto)\n",
        "\n",
        "    # Vectorizacion y generacion de matriz td-idf\n",
        "    vectorizador = TfidfVectorizer()\n",
        "    matriz_tfidf = vectorizador.fit_transform(oraciones)\n",
        "\n",
        "    # Calculo de puntuacion usando el promedio de valores por oracion\n",
        "\n",
        "    puntuaciones = np.mean(matriz_tfidf.toarray(), axis=1)\n",
        "\n",
        "    #imprimir_oraciones(oraciones, puntuaciones)\n",
        "\n",
        "    # Se obtienen las oraciones con mejor puntuacion\n",
        "    indices_mejores_oraciones = np.argsort(puntuaciones)[::-1][:numero_oraciones]\n",
        "\n",
        "    # Se reordenan en base a su orden\n",
        "    indices_mejores_oraciones = sorted(indices_mejores_oraciones)\n",
        "\n",
        "    resumen = [oraciones[i] for i in indices_mejores_oraciones]\n",
        "\n",
        "    return ' '.join(resumen)"
      ]
    },
    {
      "cell_type": "code",
      "execution_count": 8,
      "metadata": {
        "id": "nAa6sDMy2a4y"
      },
      "outputs": [],
      "source": [
        "def leer_archivo(ruta):\n",
        "    with open(ruta, 'r', encoding='utf8') as archivo:\n",
        "        return archivo.read()"
      ]
    },
    {
      "cell_type": "code",
      "execution_count": 9,
      "metadata": {
        "colab": {
          "base_uri": "https://localhost:8080/"
        },
        "id": "Whb4BvCY2fjd",
        "outputId": "ac4a4b56-1cf6-4a3c-9498-4d088269d36a"
      },
      "outputs": [
        {
          "name": "stdout",
          "output_type": "stream",
          "text": [
            "Resumen generado:\n",
            "El matemático inglés Alan Turing fue uno de los pioneros más importantes en el delineamiento de lo que más tarde se convertiría en la teoría de la computación. El misterio fue un común denominador a lo largo de su vida, entre otras cosas por su participación en el servicio británico de inteligencia durante la Segunda Guerra Mundial y por sus mal vistas inclinaciones sexuales. Su vida, llena de soledad y tropiezos, fue duramente juzgada al exponer públicamente su homosexualidad en los años cincuenta, pero ni la depresión ni el cruel repudio de la sociedad -a la que su trabajo contribuyó a liberar del yugo alemán- parecen justificar su trágico suicidio, cometido cuando se encontraba en el clímax de su productividad científica. Su madre se encontraba sumamente mortificada porque pensaba que Alan vería truncadas sus aspiraciones científicas por su mal desempeño en la escuela. Esas palabras fueron casi ciertas, pues Turing hubo de sufrir mucho durante su estancia en esa institución, en la que los anticuados métodos de enseñanza británicos afortunadamente no lograron apaciguar su curiosidad por la ciencia. Si su madre y sus profesores hubieran sabido en ese entonces que este joven indisciplinado estaba destinado a convertirse en un matemático connotado y que un día su nombre sería pronunciado con respeto por los teóricos de la computación más importantes del mundo, tal vez le habrían tenido un poco más de paciencia. El inusual apellido Turing lo colocaba en el árbol genealógico de una familia que, aunque no era rica, pertenecía a la clase media alta inglesa. Su padre ingresó al servicio civil de la India y durante su estancia en ese país conoció a la que más tarde sería su esposa. Ethel era la hija del ingeniero en jefe de los ferrocarriles de Madras (en la India) y provenía de una familia anglo-irlandesa de un estatus socioeconómico similar al de Julius. Aunque fue concebido en la India, probablemente en el pueblo de Chatrapur, Alan Turing nació en Warrington Lodge, en Londres, Inglaterra, el 23 de junio de 1912. Alan Turing y su hermano mayor John pasaron una infancia alejados de sus padres, siempre bajo el cuidado de terceras personas en diversos hogares ingleses, hasta que su padre se retiró del servicio en 1926. Se dice que la inteligencia de Alan Turing se manifestó a temprana edad, puues a los 3 años parecía mostrar una inusual capacidad para recordar nuevas palabras. Al parecer, su gusto por la educación autodidacta también se manifestó en su niñez porque su madre cuenta que Alan estaba aprendiendo muy lentamente a leer, hasta que éste encontró un libro fácil de seguir y se enseñó a sí mismo. Asimismo, su inquietud por entender los fenómenos de la naturaleza lo llevó a montar un laboratorio rudimentario de química en el sótano de su casa, cuando contaba con solo ocho años de edad. Además, buscando que el pequeño recibiera una buena educación básica, sus padres lo enviaron en el verano de 1918 a una escuela privada para niños llamada Saint Michael’s para que aprendiera latín. Después de un tiempo su mamá lo sacó de la escuela, porque advirtió que Alan no estaba aprendiendo mucho, ya que llegó a los nueve años de edad sin saber dividir correctamente y sin haber alcanzado un nivel aceptable de latín. Fue en Hazlehurst donde Alan se interesó por primera vez en el ajedrez, y fue ahí también donde su interés por la ciencia -sobre todo la química y las matemáticas- fue creciendo cada vez más, aunque gran parte de sus estudios tuvo que efectuarlos de manera autodidacta, debido al arcaico sistema de enseñanza que reinaba en la Inglaterra de esos días. A pesar de su mal desempeño en la escuela, Alan sorprendió agradablemente a su familia cuando aprobó el examen común de admisión a escuelas públicas en 1925. Sin embargo, como su madre deseaba enviar a Alan a una escuela donde pudiera entender su extraña manera de ser y su extraordinario sentido de independencia, hubo que esperar hasta 1926 para ingresar a la escuela Sherborne, cuando contaba con 13 años de edad. A los 14 años ya era capaz de comprender cuestiones relativamente avanzadas de cálculo, pese a que no había estudiado el tema en la escuela. En 1928 se interesó en la teoría general de la relatividad, de Albert Einstein, y aunque se dice que sus notas privadas sobre la materia bien podrían atribuirse a un estudiante de posgrado, casi se le impidió tomar los exámenes para obtener el certificado de educación media. Durante su estancia en Sherborne, Turing desarrolló el hábito de no prestar atención a sus clases sino hasta el final del semestre, cuando se esmeraba y dejaba asombrados a todos al obtener calificaciones suficientemente buenas para aprobar sus cursos. Un profesor de latín, llegó a decirle al intrépido Alan que donaría un billón de libras a cualquier institución de beneficencia que Turing eligiera si este lograba aprobar su curso. Fue en estos días cuando Turing conoció al joven Christopher Morcom, un estudiante muy brillante que le sirvió de compañero intelectual durante una época de intensa curiosidad científica para Alan. Tras conocerlo, Turing se sintió inmediatamente atraído por el enorme talento y las sagaz inteligencia de Morcom y pronto se volvieron muy buenos amigos. Juntos desarrollaron experimentos de química, resolvieron problemas de matemáticas, localizaron estrellas y cometas en el firmamento y conversaron durante interminables horas acerca de las inagotables ideas y preguntas científicas que intrigaban a los jóvenes prospectos. Aunque igualmente brillante que Alan, Christopher se distinguía de Turing por ser un estudiante modelo que sabía obedecer las rígidas reglas que regían en las escuelas inglesas de educación media de la época. En 1929 Morcom presentó los exámenes para ingresar al prestigioso Trinity College de la Universidad de Cambridge, y obtuvo una beca -al igual que lo había hecho su hermano Rupert unos años antes que él-. Turing tuvo la osadía de imitar a Morcom, a pesar de contar con solo 17 años de edad y, como era de esperarse, fracasó en su intento. Lo que Turing lamentó más de este tropiezo no fue tanto el no haber obtenido la beca, sino el pensar que se tendría que separar de Christopher durante al menos un año. Lo que Alan no sabía era que el destino estaba a punto de jugarle una mala pasada que los separaría permanentemente de la única persona que realmente comprendía su peculiar interés por la ciencia. Aunque Turing atribuyó su muerte a un envenenamiento envenenamiento con vanadio, la realidad es que Morcom había contraído tuberculosis bovina en la infancia por beber leche de vaca infectada y eso lo había hecho ser siempre una persona muy enfermiza. Su mal se agudizó tras una operación que se efectuó en 1927 y todos los esfuerzos de los médicos por salvarlo fueron inútiles. A partir de ese momento Alan inició una correspondencia frecuente con la mamá de Christopher y sus intereses se tornaron hacia los misterios que rodean el encapsulamiento de la mente en la materia. En su segundo intento por obtener una beca en Cambridge, Turing finalmente logro ser aceptado en el King’s College, que fue su segunda opción en el examen. Esto decepcionó un poco Alan, que lamentó no haber podido seguir fielmente los pasos de Christopher, pero fue motivo de celebración para la familia Turín, que pensó que después de todo su hijo obtendría la buena educación que todos buscaban. En 1932 Alan comenzó a estudiar el entonces reciente trabajo de von Newman en mecánica cuántica, lo cual le permitió canalizar sus dudas espirituales por la vía de la rigurosidad científica. Al mismo tiempo, el ambiente más liberal del King’s College le hizo sentirse mucho más relajado que en Sherborne, y la homosexualidad se volvió un rasgo distintivo de su personalidad. En esa época hizo amistad con un joven estudiante de matemáticas llamado James Atkins, quien se volvería más tarde su amante. Pese a que los círculos más frecuentados por los homosexuales en King’s College eran los literarios, Turing prefería los deportes y era frecuente que practicara remo, carreras a campo traviesa y que paseara en un pequeño velero. Sus ideas de esa época estaban a favor de la izquierda, aunque nunca llegó a participar directamente en ningún movimiento político importante. Su redescubrimiento del teorema del límite central le hizo acreedor a una beca Harold Fry del King’s College, que le permitía ser investigador de tiempo completo durante tres años, con posibilidad de renovarla por otros tres. El llamado premio Smith le fue otorgado al joven Turing, quien para ese entonces había penetrado los dominios de las matemáticas superiores al resolver de manera sorprendentemente sencilla, el problema de la decibilidad planteado por el legendario matemático alemán David Hilbert. En términos llanos, la pregunta de Hilbert giraba en torno a si existe un método definido que pueda ser aplicado a cualquier aseveración, de manera que garantice el que se genere una decisión correcta sobre su veracidad. Para contribuir su demostración usó un modelo teórico sumamente sencillo, que consistía en una máquina con una cinta de longitud infinita dividida en cuadros en cada uno de los cuales podría colocarse un solo símbolo. Las funciones de la máquina estaban limitadas a leer, escribir o borrar símbolos en la cinta, moviéndose para ello a razón de un cuadro a la vez (hacia la derecha o a la izquierda). A pesar de su sencillez, esta máquina realmente estaba modelando un algoritmo y constituía la primera herramienta teórica para explorar los límites de las aún inexistentes computadoras. Las implicaciones de la demostración de Turing resultaron ser los orígenes de lo que hoy se conoce como teoría de la computación y gracias a este trabajo sabemos en la actualidad que sin importar qué tan rápidas y poderosas pueden llegar a ser las computadoras que el hombre construya, aún así seguirán existiendo problemas que nunca podremos resolver.\n"
          ]
        }
      ],
      "source": [
        "texto = leer_archivo(ruta_archivo)\n",
        "\n",
        "resumen = generar_resumen(texto)\n",
        "\n",
        "print(\"Resumen generado:\")\n",
        "print(resumen)"
      ]
    }
  ],
  "metadata": {
    "colab": {
      "provenance": []
    },
    "kernelspec": {
      "display_name": ".venv",
      "language": "python",
      "name": "python3"
    },
    "language_info": {
      "codemirror_mode": {
        "name": "ipython",
        "version": 3
      },
      "file_extension": ".py",
      "mimetype": "text/x-python",
      "name": "python",
      "nbconvert_exporter": "python",
      "pygments_lexer": "ipython3",
      "version": "3.12.11"
    }
  },
  "nbformat": 4,
  "nbformat_minor": 0
}
