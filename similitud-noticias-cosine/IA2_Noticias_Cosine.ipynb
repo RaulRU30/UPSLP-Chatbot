{
  "cells": [
    {
      "cell_type": "code",
      "execution_count": 2,
      "metadata": {
        "id": "gkSJGWZLka8u"
      },
      "outputs": [],
      "source": [
        "#Importamos librerias necesarias\n",
        "import os\n",
        "import pandas as pd\n",
        "from sklearn.feature_extraction.text import TfidfVectorizer\n",
        "from sklearn.metrics.pairwise import cosine_similarity\n",
        "#from google.colab import drive"
      ]
    },
    {
      "cell_type": "code",
      "execution_count": null,
      "metadata": {
        "colab": {
          "base_uri": "https://localhost:8080/"
        },
        "id": "Pc8yGNoJk8GJ",
        "outputId": "291a2138-c481-4428-f503-a3234d172c9d"
      },
      "outputs": [
        {
          "name": "stdout",
          "output_type": "stream",
          "text": [
            "Drive already mounted at /content/drive; to attempt to forcibly remount, call drive.mount(\"/content/drive\", force_remount=True).\n"
          ]
        }
      ],
      "source": [
        "# Montamos drive y guardamos la ruta de la carpeta con noticias\n",
        "drive.mount('/content/drive')\n",
        "BASE_DIR = '/content/drive/MyDrive/Colab Notebooks/Noticias/'"
      ]
    },
    {
      "cell_type": "code",
      "execution_count": 8,
      "metadata": {},
      "outputs": [],
      "source": [
        "BASE_DIR = \"./Noticias/\""
      ]
    },
    {
      "cell_type": "code",
      "execution_count": 7,
      "metadata": {
        "id": "iE-gbC-ilMYn"
      },
      "outputs": [],
      "source": [
        "# Almacenamos el listado de nombres de archivo de manera ordenada\n",
        "noticias = os.listdir(BASE_DIR)\n",
        "noticias = [f for f in noticias]\n",
        "noticias.sort()"
      ]
    },
    {
      "cell_type": "code",
      "execution_count": 9,
      "metadata": {
        "id": "rFDJBjH_lMW_"
      },
      "outputs": [],
      "source": [
        "# Generamos el corpus con el contenido de las noticias\n",
        "corpus = []\n",
        "for archivo in noticias:\n",
        "    with open(os.path.join(BASE_DIR, archivo)) as f:\n",
        "        corpus.append(f.read())"
      ]
    },
    {
      "cell_type": "code",
      "execution_count": 10,
      "metadata": {
        "id": "yIghVjgxlkqB"
      },
      "outputs": [],
      "source": [
        "# Vectorizamos usando tf_idf\n",
        "vectorizer = TfidfVectorizer()\n",
        "X = vectorizer.fit_transform(corpus)"
      ]
    },
    {
      "cell_type": "code",
      "execution_count": 11,
      "metadata": {
        "colab": {
          "base_uri": "https://localhost:8080/",
          "height": 255
        },
        "id": "GjSvnwK6l9Jl",
        "outputId": "b2c8eecf-e732-47f0-a407-2254326f21ac"
      },
      "outputs": [
        {
          "data": {
            "text/html": [
              "<div>\n",
              "<style scoped>\n",
              "    .dataframe tbody tr th:only-of-type {\n",
              "        vertical-align: middle;\n",
              "    }\n",
              "\n",
              "    .dataframe tbody tr th {\n",
              "        vertical-align: top;\n",
              "    }\n",
              "\n",
              "    .dataframe thead th {\n",
              "        text-align: right;\n",
              "    }\n",
              "</style>\n",
              "<table border=\"1\" class=\"dataframe\">\n",
              "  <thead>\n",
              "    <tr style=\"text-align: right;\">\n",
              "      <th></th>\n",
              "      <th>00</th>\n",
              "      <th>11</th>\n",
              "      <th>acudirá</th>\n",
              "      <th>acuerdo</th>\n",
              "      <th>adelante</th>\n",
              "      <th>adelantó</th>\n",
              "      <th>afectadas</th>\n",
              "      <th>afuera</th>\n",
              "      <th>al</th>\n",
              "      <th>algo</th>\n",
              "      <th>...</th>\n",
              "      <th>va</th>\n",
              "      <th>vaya</th>\n",
              "      <th>venezuela</th>\n",
              "      <th>veracruz</th>\n",
              "      <th>videollamada</th>\n",
              "      <th>viendo</th>\n",
              "      <th>viernes</th>\n",
              "      <th>xiomara</th>\n",
              "      <th>zonas</th>\n",
              "      <th>ángeles</th>\n",
              "    </tr>\n",
              "  </thead>\n",
              "  <tbody>\n",
              "    <tr>\n",
              "      <th>noticia1.txt</th>\n",
              "      <td>0.000000</td>\n",
              "      <td>0.000000</td>\n",
              "      <td>0.000000</td>\n",
              "      <td>0.000000</td>\n",
              "      <td>0.000000</td>\n",
              "      <td>0.000000</td>\n",
              "      <td>0.000000</td>\n",
              "      <td>0.072127</td>\n",
              "      <td>0.050366</td>\n",
              "      <td>0.000000</td>\n",
              "      <td>...</td>\n",
              "      <td>0.059872</td>\n",
              "      <td>0.000000</td>\n",
              "      <td>0.050366</td>\n",
              "      <td>0.000000</td>\n",
              "      <td>0.072127</td>\n",
              "      <td>0.000000</td>\n",
              "      <td>0.000000</td>\n",
              "      <td>0.000000</td>\n",
              "      <td>0.000000</td>\n",
              "      <td>0.000000</td>\n",
              "    </tr>\n",
              "    <tr>\n",
              "      <th>noticia2.txt</th>\n",
              "      <td>0.000000</td>\n",
              "      <td>0.000000</td>\n",
              "      <td>0.068281</td>\n",
              "      <td>0.000000</td>\n",
              "      <td>0.068281</td>\n",
              "      <td>0.000000</td>\n",
              "      <td>0.000000</td>\n",
              "      <td>0.000000</td>\n",
              "      <td>0.038468</td>\n",
              "      <td>0.068281</td>\n",
              "      <td>...</td>\n",
              "      <td>0.000000</td>\n",
              "      <td>0.136561</td>\n",
              "      <td>0.038468</td>\n",
              "      <td>0.000000</td>\n",
              "      <td>0.000000</td>\n",
              "      <td>0.068281</td>\n",
              "      <td>0.000000</td>\n",
              "      <td>0.000000</td>\n",
              "      <td>0.000000</td>\n",
              "      <td>0.000000</td>\n",
              "    </tr>\n",
              "    <tr>\n",
              "      <th>noticia3.txt</th>\n",
              "      <td>0.000000</td>\n",
              "      <td>0.000000</td>\n",
              "      <td>0.000000</td>\n",
              "      <td>0.000000</td>\n",
              "      <td>0.000000</td>\n",
              "      <td>0.081221</td>\n",
              "      <td>0.000000</td>\n",
              "      <td>0.000000</td>\n",
              "      <td>0.137276</td>\n",
              "      <td>0.000000</td>\n",
              "      <td>...</td>\n",
              "      <td>0.054395</td>\n",
              "      <td>0.000000</td>\n",
              "      <td>0.045759</td>\n",
              "      <td>0.000000</td>\n",
              "      <td>0.000000</td>\n",
              "      <td>0.000000</td>\n",
              "      <td>0.000000</td>\n",
              "      <td>0.081221</td>\n",
              "      <td>0.000000</td>\n",
              "      <td>0.081221</td>\n",
              "    </tr>\n",
              "    <tr>\n",
              "      <th>noticia4.txt</th>\n",
              "      <td>0.131062</td>\n",
              "      <td>0.131062</td>\n",
              "      <td>0.000000</td>\n",
              "      <td>0.131062</td>\n",
              "      <td>0.000000</td>\n",
              "      <td>0.000000</td>\n",
              "      <td>0.131062</td>\n",
              "      <td>0.000000</td>\n",
              "      <td>0.000000</td>\n",
              "      <td>0.000000</td>\n",
              "      <td>...</td>\n",
              "      <td>0.000000</td>\n",
              "      <td>0.000000</td>\n",
              "      <td>0.000000</td>\n",
              "      <td>0.131062</td>\n",
              "      <td>0.000000</td>\n",
              "      <td>0.000000</td>\n",
              "      <td>0.131062</td>\n",
              "      <td>0.000000</td>\n",
              "      <td>0.131062</td>\n",
              "      <td>0.000000</td>\n",
              "    </tr>\n",
              "    <tr>\n",
              "      <th>noticia5.txt</th>\n",
              "      <td>0.000000</td>\n",
              "      <td>0.000000</td>\n",
              "      <td>0.000000</td>\n",
              "      <td>0.000000</td>\n",
              "      <td>0.000000</td>\n",
              "      <td>0.000000</td>\n",
              "      <td>0.000000</td>\n",
              "      <td>0.072127</td>\n",
              "      <td>0.050366</td>\n",
              "      <td>0.000000</td>\n",
              "      <td>...</td>\n",
              "      <td>0.059872</td>\n",
              "      <td>0.000000</td>\n",
              "      <td>0.050366</td>\n",
              "      <td>0.000000</td>\n",
              "      <td>0.072127</td>\n",
              "      <td>0.000000</td>\n",
              "      <td>0.000000</td>\n",
              "      <td>0.000000</td>\n",
              "      <td>0.000000</td>\n",
              "      <td>0.000000</td>\n",
              "    </tr>\n",
              "  </tbody>\n",
              "</table>\n",
              "<p>5 rows × 222 columns</p>\n",
              "</div>"
            ],
            "text/plain": [
              "                    00        11   acudirá   acuerdo  adelante  adelantó  \\\n",
              "noticia1.txt  0.000000  0.000000  0.000000  0.000000  0.000000  0.000000   \n",
              "noticia2.txt  0.000000  0.000000  0.068281  0.000000  0.068281  0.000000   \n",
              "noticia3.txt  0.000000  0.000000  0.000000  0.000000  0.000000  0.081221   \n",
              "noticia4.txt  0.131062  0.131062  0.000000  0.131062  0.000000  0.000000   \n",
              "noticia5.txt  0.000000  0.000000  0.000000  0.000000  0.000000  0.000000   \n",
              "\n",
              "              afectadas    afuera        al      algo  ...        va  \\\n",
              "noticia1.txt   0.000000  0.072127  0.050366  0.000000  ...  0.059872   \n",
              "noticia2.txt   0.000000  0.000000  0.038468  0.068281  ...  0.000000   \n",
              "noticia3.txt   0.000000  0.000000  0.137276  0.000000  ...  0.054395   \n",
              "noticia4.txt   0.131062  0.000000  0.000000  0.000000  ...  0.000000   \n",
              "noticia5.txt   0.000000  0.072127  0.050366  0.000000  ...  0.059872   \n",
              "\n",
              "                  vaya  venezuela  veracruz  videollamada    viendo   viernes  \\\n",
              "noticia1.txt  0.000000   0.050366  0.000000      0.072127  0.000000  0.000000   \n",
              "noticia2.txt  0.136561   0.038468  0.000000      0.000000  0.068281  0.000000   \n",
              "noticia3.txt  0.000000   0.045759  0.000000      0.000000  0.000000  0.000000   \n",
              "noticia4.txt  0.000000   0.000000  0.131062      0.000000  0.000000  0.131062   \n",
              "noticia5.txt  0.000000   0.050366  0.000000      0.072127  0.000000  0.000000   \n",
              "\n",
              "               xiomara     zonas   ángeles  \n",
              "noticia1.txt  0.000000  0.000000  0.000000  \n",
              "noticia2.txt  0.000000  0.000000  0.000000  \n",
              "noticia3.txt  0.081221  0.000000  0.081221  \n",
              "noticia4.txt  0.000000  0.131062  0.000000  \n",
              "noticia5.txt  0.000000  0.000000  0.000000  \n",
              "\n",
              "[5 rows x 222 columns]"
            ]
          },
          "metadata": {},
          "output_type": "display_data"
        }
      ],
      "source": [
        "# Mostramos la matriz\n",
        "df_tfidf = pd.DataFrame(\n",
        "    X.toarray(),\n",
        "    index=noticias,\n",
        "    columns=vectorizer.get_feature_names_out()\n",
        "    )\n",
        "\n",
        "display(df_tfidf.head())"
      ]
    },
    {
      "cell_type": "code",
      "execution_count": 12,
      "metadata": {
        "id": "ih5fdRuolncw"
      },
      "outputs": [],
      "source": [
        "# Calculamos la similitud del vector que contiene\n",
        "# la noticia 1 con cada uno del resto de noticias usando cosine similarity\n",
        "vector_noticia1 = X[0:1]\n",
        "vectores_otras_noticias = X[1:]\n",
        "\n",
        "similitudes = cosine_similarity(vector_noticia1, vectores_otras_noticias)[0]"
      ]
    },
    {
      "cell_type": "code",
      "execution_count": 13,
      "metadata": {
        "id": "q3epFCuTlqhg"
      },
      "outputs": [],
      "source": [
        "# Cargamos en una matriz la puntuacion de cada noticia\n",
        "resultados = []\n",
        "for i in range(len(similitudes)):\n",
        "    resultados.append((noticias[i + 1], similitudes[i]))"
      ]
    },
    {
      "cell_type": "code",
      "execution_count": 14,
      "metadata": {
        "colab": {
          "base_uri": "https://localhost:8080/"
        },
        "id": "jv59hjyilvzC",
        "outputId": "7499c2c8-15f1-42c0-bebc-a4fbd6ef7ea2"
      },
      "outputs": [
        {
          "name": "stdout",
          "output_type": "stream",
          "text": [
            " - noticia2.txt: 0.4979198538708028\n",
            " - noticia3.txt: 0.5153367468273958\n",
            " - noticia4.txt: 0.29590562210360183\n",
            " - noticia5.txt: 1.0\n"
          ]
        }
      ],
      "source": [
        "for nombre, score in resultados:\n",
        "    print(f\" - {nombre}: {score}\")"
      ]
    },
    {
      "cell_type": "code",
      "execution_count": 15,
      "metadata": {
        "colab": {
          "base_uri": "https://localhost:8080/"
        },
        "id": "r_kFah8MwOOG",
        "outputId": "02ead3bb-efc9-49d4-814c-3e08044793fb"
      },
      "outputs": [
        {
          "name": "stdout",
          "output_type": "stream",
          "text": [
            "\n",
            "La noticia con mayor similitud con la noticia 1 es:\n",
            "- noticia5.txt con un score de 1.0\n"
          ]
        }
      ],
      "source": [
        "\n",
        "# Ordenamos la matriz por score de mayor a menor y nos quedamos con la primera fila\n",
        "resultados_ordenados = sorted(resultados, key=lambda x: x[1], reverse=True)\n",
        "noticia_mas_similar = resultados_ordenados[0]\n",
        "\n",
        "# Imprimimos la noticia con mayor similitud\n",
        "print(\"\\nLa noticia con mayor similitud con la noticia 1 es:\")\n",
        "print(f\"- {noticia_mas_similar[0]} con un score de {noticia_mas_similar[1]}\")"
      ]
    }
  ],
  "metadata": {
    "colab": {
      "provenance": []
    },
    "kernelspec": {
      "display_name": ".venv",
      "language": "python",
      "name": "python3"
    },
    "language_info": {
      "codemirror_mode": {
        "name": "ipython",
        "version": 3
      },
      "file_extension": ".py",
      "mimetype": "text/x-python",
      "name": "python",
      "nbconvert_exporter": "python",
      "pygments_lexer": "ipython3",
      "version": "3.12.11"
    }
  },
  "nbformat": 4,
  "nbformat_minor": 0
}
