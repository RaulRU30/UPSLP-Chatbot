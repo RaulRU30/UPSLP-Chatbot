{
  "cells": [
    {
      "cell_type": "markdown",
      "id": "fba35c77",
      "metadata": {
        "id": "fba35c77"
      },
      "source": [
        "## Universidad Politécnica de San Luis Potosí\n",
        "###  Regresión Lineal Simple\n",
        "\n",
        "En esta práctica aplicaremos el algoritmo de Regresión Lineal Simple\n",
        "\n",
        "sirve para pronosticar un valor numérico\n",
        "\n",
        "Este algoritmo funciona con una variable independiente y una variable dependiente, ambas deben ser numéricas"
      ]
    },
    {
      "cell_type": "code",
      "execution_count": null,
      "id": "6ec6fa05",
      "metadata": {},
      "outputs": [
        {
          "name": "stdout",
          "output_type": "stream",
          "text": [
            "Collecting scikit-learn\n",
            "  Downloading scikit_learn-1.7.0-cp312-cp312-manylinux_2_17_x86_64.manylinux2014_x86_64.whl.metadata (17 kB)\n",
            "Requirement already satisfied: numpy>=1.22.0 in /workspace/UPSLP-Chatbot/.venv/lib/python3.12/site-packages (from scikit-learn) (2.3.1)\n",
            "Collecting scipy>=1.8.0 (from scikit-learn)\n",
            "  Downloading scipy-1.16.0-cp312-cp312-manylinux2014_x86_64.manylinux_2_17_x86_64.whl.metadata (61 kB)\n",
            "Requirement already satisfied: joblib>=1.2.0 in /workspace/UPSLP-Chatbot/.venv/lib/python3.12/site-packages (from scikit-learn) (1.5.1)\n",
            "Collecting threadpoolctl>=3.1.0 (from scikit-learn)\n",
            "  Downloading threadpoolctl-3.6.0-py3-none-any.whl.metadata (13 kB)\n",
            "Downloading scikit_learn-1.7.0-cp312-cp312-manylinux_2_17_x86_64.manylinux2014_x86_64.whl (12.5 MB)\n",
            "\u001b[2K   \u001b[90m━━━━━━━━━━━━━━━━━━━━━━━━━━━━━━━━━━━━━━━━\u001b[0m \u001b[32m12.5/12.5 MB\u001b[0m \u001b[31m151.0 MB/s\u001b[0m eta \u001b[36m0:00:00\u001b[0m\n",
            "\u001b[?25hDownloading scipy-1.16.0-cp312-cp312-manylinux2014_x86_64.manylinux_2_17_x86_64.whl (35.1 MB)\n",
            "\u001b[2K   \u001b[90m━━━━━━━━━━━━━━━━━━━━━━━━━━━━━━━━━━━━━━━━\u001b[0m \u001b[32m35.1/35.1 MB\u001b[0m \u001b[31m114.2 MB/s\u001b[0m eta \u001b[36m0:00:00\u001b[0m00:01\u001b[0m\n",
            "\u001b[?25hDownloading threadpoolctl-3.6.0-py3-none-any.whl (18 kB)\n",
            "Installing collected packages: threadpoolctl, scipy, scikit-learn\n",
            "\u001b[2K   \u001b[90m━━━━━━━━━━━━━━━━━━━━━━━━━━━━━━━━━━━━━━━━\u001b[0m \u001b[32m3/3\u001b[0m [scikit-learn][0m [scikit-learn]\n",
            "\u001b[1A\u001b[2KSuccessfully installed scikit-learn-1.7.0 scipy-1.16.0 threadpoolctl-3.6.0\n",
            "Note: you may need to restart the kernel to use updated packages.\n"
          ]
        }
      ],
      "source": [
        "#%pip install pandas\n",
        "#%pip install seaborn\n",
        "#%pip install scikit-learn"
      ]
    },
    {
      "cell_type": "code",
      "execution_count": 3,
      "id": "d109a964",
      "metadata": {
        "id": "d109a964"
      },
      "outputs": [],
      "source": [
        "import pandas as ps"
      ]
    },
    {
      "cell_type": "markdown",
      "id": "GKnPok9a-Ouq",
      "metadata": {
        "id": "GKnPok9a-Ouq"
      },
      "source": [
        "pandas: Funciones para importar, manipular y realizar análisis de datos"
      ]
    },
    {
      "cell_type": "code",
      "execution_count": 4,
      "id": "7864143b",
      "metadata": {
        "id": "7864143b"
      },
      "outputs": [],
      "source": [
        "import numpy as np"
      ]
    },
    {
      "cell_type": "markdown",
      "id": "pMLfwJyd-UNg",
      "metadata": {
        "id": "pMLfwJyd-UNg"
      },
      "source": [
        "numpy:  Biblioteca para trabajar con matrices de n-dimensiones"
      ]
    },
    {
      "cell_type": "code",
      "execution_count": 7,
      "id": "0a2ee142",
      "metadata": {
        "id": "0a2ee142"
      },
      "outputs": [],
      "source": [
        "import seaborn as sb"
      ]
    },
    {
      "cell_type": "markdown",
      "id": "nPxQa7dT-rKt",
      "metadata": {
        "id": "nPxQa7dT-rKt"
      },
      "source": [
        "seaborn: Herramienta para gráficos"
      ]
    },
    {
      "cell_type": "code",
      "execution_count": 8,
      "id": "9b79135a",
      "metadata": {
        "id": "9b79135a"
      },
      "outputs": [],
      "source": [
        "import matplotlib.pyplot as pl"
      ]
    },
    {
      "cell_type": "markdown",
      "id": "OhLrZRR9-9sz",
      "metadata": {
        "id": "OhLrZRR9-9sz"
      },
      "source": [
        "matplotlib: Gráficas en 2D y 3D"
      ]
    },
    {
      "cell_type": "code",
      "execution_count": 13,
      "id": "11d5589d",
      "metadata": {
        "id": "11d5589d"
      },
      "outputs": [],
      "source": [
        "from sklearn.metrics import classification_report\n",
        "# esta línea trae la función para generar un reporte de la clasificación\n",
        "from sklearn import linear_model\n",
        "# esta línea es la que carga la función que calcula la regresión\n",
        "from sklearn.metrics import mean_squared_error, r2_score\n",
        "# son funciones para calcular medidas de eficiencia del modelo de regresión\n",
        "# error cuadrado medio y r cuadrada\n"
      ]
    },
    {
      "cell_type": "code",
      "execution_count": null,
      "id": "fEr1wLf-DJiV",
      "metadata": {
        "colab": {
          "base_uri": "https://localhost:8080/"
        },
        "id": "fEr1wLf-DJiV",
        "outputId": "b71d9892-f540-406f-cef5-6334f5cadbb0"
      },
      "outputs": [
        {
          "name": "stdout",
          "output_type": "stream",
          "text": [
            "Mounted at /content/drive\n"
          ]
        }
      ],
      "source": [
        "from google.colab import drive\n",
        "drive.mount('/content/drive')\n",
        "#montamos Drive"
      ]
    },
    {
      "cell_type": "code",
      "execution_count": 14,
      "id": "2cab40d8",
      "metadata": {
        "id": "2cab40d8",
        "scrolled": true
      },
      "outputs": [],
      "source": [
        "# cargamos los datos\n",
        "# datos = ps.read_csv(\"/content/drive/MyDrive/copiadoras.csv\")\n",
        "datos =  ps.read_csv(\"./copiadoras.csv\")"
      ]
    },
    {
      "cell_type": "code",
      "execution_count": 15,
      "id": "eeae5b6e",
      "metadata": {
        "colab": {
          "base_uri": "https://localhost:8080/",
          "height": 363
        },
        "id": "eeae5b6e",
        "outputId": "49801b7f-92d3-4d48-9167-5c6612cac910"
      },
      "outputs": [
        {
          "data": {
            "text/html": [
              "<div>\n",
              "<style scoped>\n",
              "    .dataframe tbody tr th:only-of-type {\n",
              "        vertical-align: middle;\n",
              "    }\n",
              "\n",
              "    .dataframe tbody tr th {\n",
              "        vertical-align: top;\n",
              "    }\n",
              "\n",
              "    .dataframe thead th {\n",
              "        text-align: right;\n",
              "    }\n",
              "</style>\n",
              "<table border=\"1\" class=\"dataframe\">\n",
              "  <thead>\n",
              "    <tr style=\"text-align: right;\">\n",
              "      <th></th>\n",
              "      <th>Vendedor</th>\n",
              "      <th>Llamadas</th>\n",
              "      <th>Ventas</th>\n",
              "    </tr>\n",
              "  </thead>\n",
              "  <tbody>\n",
              "    <tr>\n",
              "      <th>0</th>\n",
              "      <td>1</td>\n",
              "      <td>20</td>\n",
              "      <td>30</td>\n",
              "    </tr>\n",
              "    <tr>\n",
              "      <th>1</th>\n",
              "      <td>2</td>\n",
              "      <td>40</td>\n",
              "      <td>60</td>\n",
              "    </tr>\n",
              "    <tr>\n",
              "      <th>2</th>\n",
              "      <td>3</td>\n",
              "      <td>20</td>\n",
              "      <td>40</td>\n",
              "    </tr>\n",
              "    <tr>\n",
              "      <th>3</th>\n",
              "      <td>4</td>\n",
              "      <td>30</td>\n",
              "      <td>60</td>\n",
              "    </tr>\n",
              "    <tr>\n",
              "      <th>4</th>\n",
              "      <td>5</td>\n",
              "      <td>10</td>\n",
              "      <td>30</td>\n",
              "    </tr>\n",
              "    <tr>\n",
              "      <th>5</th>\n",
              "      <td>6</td>\n",
              "      <td>10</td>\n",
              "      <td>40</td>\n",
              "    </tr>\n",
              "    <tr>\n",
              "      <th>6</th>\n",
              "      <td>7</td>\n",
              "      <td>20</td>\n",
              "      <td>40</td>\n",
              "    </tr>\n",
              "    <tr>\n",
              "      <th>7</th>\n",
              "      <td>8</td>\n",
              "      <td>20</td>\n",
              "      <td>50</td>\n",
              "    </tr>\n",
              "    <tr>\n",
              "      <th>8</th>\n",
              "      <td>9</td>\n",
              "      <td>20</td>\n",
              "      <td>30</td>\n",
              "    </tr>\n",
              "    <tr>\n",
              "      <th>9</th>\n",
              "      <td>10</td>\n",
              "      <td>30</td>\n",
              "      <td>70</td>\n",
              "    </tr>\n",
              "  </tbody>\n",
              "</table>\n",
              "</div>"
            ],
            "text/plain": [
              "   Vendedor  Llamadas  Ventas\n",
              "0         1        20      30\n",
              "1         2        40      60\n",
              "2         3        20      40\n",
              "3         4        30      60\n",
              "4         5        10      30\n",
              "5         6        10      40\n",
              "6         7        20      40\n",
              "7         8        20      50\n",
              "8         9        20      30\n",
              "9        10        30      70"
            ]
          },
          "execution_count": 15,
          "metadata": {},
          "output_type": "execute_result"
        }
      ],
      "source": [
        "datos"
      ]
    },
    {
      "cell_type": "code",
      "execution_count": 16,
      "id": "LkP7y5M5pW13",
      "metadata": {
        "colab": {
          "base_uri": "https://localhost:8080/",
          "height": 143
        },
        "id": "LkP7y5M5pW13",
        "outputId": "c21ed083-84a5-4460-ad0a-a42413941d67"
      },
      "outputs": [
        {
          "data": {
            "text/html": [
              "<div>\n",
              "<style scoped>\n",
              "    .dataframe tbody tr th:only-of-type {\n",
              "        vertical-align: middle;\n",
              "    }\n",
              "\n",
              "    .dataframe tbody tr th {\n",
              "        vertical-align: top;\n",
              "    }\n",
              "\n",
              "    .dataframe thead th {\n",
              "        text-align: right;\n",
              "    }\n",
              "</style>\n",
              "<table border=\"1\" class=\"dataframe\">\n",
              "  <thead>\n",
              "    <tr style=\"text-align: right;\">\n",
              "      <th></th>\n",
              "      <th>Vendedor</th>\n",
              "      <th>Llamadas</th>\n",
              "      <th>Ventas</th>\n",
              "    </tr>\n",
              "  </thead>\n",
              "  <tbody>\n",
              "    <tr>\n",
              "      <th>Vendedor</th>\n",
              "      <td>1.000000</td>\n",
              "      <td>-0.159745</td>\n",
              "      <td>0.191977</td>\n",
              "    </tr>\n",
              "    <tr>\n",
              "      <th>Llamadas</th>\n",
              "      <td>-0.159745</td>\n",
              "      <td>1.000000</td>\n",
              "      <td>0.759014</td>\n",
              "    </tr>\n",
              "    <tr>\n",
              "      <th>Ventas</th>\n",
              "      <td>0.191977</td>\n",
              "      <td>0.759014</td>\n",
              "      <td>1.000000</td>\n",
              "    </tr>\n",
              "  </tbody>\n",
              "</table>\n",
              "</div>"
            ],
            "text/plain": [
              "          Vendedor  Llamadas    Ventas\n",
              "Vendedor  1.000000 -0.159745  0.191977\n",
              "Llamadas -0.159745  1.000000  0.759014\n",
              "Ventas    0.191977  0.759014  1.000000"
            ]
          },
          "execution_count": 16,
          "metadata": {},
          "output_type": "execute_result"
        }
      ],
      "source": [
        "# Calculamos la correlación\n",
        "correlacion = datos.corr(method='pearson')\n",
        "correlacion"
      ]
    },
    {
      "cell_type": "markdown",
      "id": "kQfA6UqDpbFI",
      "metadata": {
        "id": "kQfA6UqDpbFI"
      },
      "source": [
        "Nota importante: No tomar en cuenta la variable Vendedor, es una variable que solmente sirve para identificar al vendedor.\n",
        "\n",
        "Observamos que Ventas y Llamadas están relacionadas ya que la correlación es de 0.759, entonces si podemos calcular un modelo de Regresión.\n",
        "\n",
        "(Recordar que el valor debe ser estar entre -0.4 y -1  o entre 0.4 y 1)"
      ]
    },
    {
      "cell_type": "code",
      "execution_count": 17,
      "id": "UWoNf98hc2b0",
      "metadata": {
        "colab": {
          "base_uri": "https://localhost:8080/",
          "height": 397
        },
        "id": "UWoNf98hc2b0",
        "outputId": "32afc3d8-0314-4069-a28a-ac11e0eb9864"
      },
      "outputs": [
        {
          "data": {
            "text/plain": [
              "0    20\n",
              "1    40\n",
              "2    20\n",
              "3    30\n",
              "4    10\n",
              "5    10\n",
              "6    20\n",
              "7    20\n",
              "8    20\n",
              "9    30\n",
              "Name: Llamadas, dtype: int64"
            ]
          },
          "execution_count": 17,
          "metadata": {},
          "output_type": "execute_result"
        }
      ],
      "source": [
        "# Dejamos la variable independiente en la variable X\n",
        "# Ojo: No debemos tomar en cuenta el número del vendedor\n",
        "X = datos['Llamadas']\n",
        "X"
      ]
    },
    {
      "cell_type": "code",
      "execution_count": 18,
      "id": "OShMWYmpc3Lm",
      "metadata": {
        "colab": {
          "base_uri": "https://localhost:8080/",
          "height": 397
        },
        "id": "OShMWYmpc3Lm",
        "outputId": "6e1872ab-8d0a-4555-c9cd-f4b6f09d797f"
      },
      "outputs": [
        {
          "data": {
            "text/plain": [
              "0    30\n",
              "1    60\n",
              "2    40\n",
              "3    60\n",
              "4    30\n",
              "5    40\n",
              "6    40\n",
              "7    50\n",
              "8    30\n",
              "9    70\n",
              "Name: Ventas, dtype: int64"
            ]
          },
          "execution_count": 18,
          "metadata": {},
          "output_type": "execute_result"
        }
      ],
      "source": [
        "# Dejamos la variable dependiente en la variable y\n",
        "y = datos['Ventas']\n",
        "y"
      ]
    },
    {
      "cell_type": "code",
      "execution_count": null,
      "id": "b0867f88",
      "metadata": {
        "id": "b0867f88"
      },
      "outputs": [],
      "source": [
        "from sklearn.model_selection import train_test_split\n",
        "# Esta función nos permitirá separar el conjunto de datos en dos, uno de entrenamiento\n",
        "# y el otro de prueba\n",
        "# Así funciona el Aprendizaje de Máquina Supervisado\n"
      ]
    },
    {
      "cell_type": "code",
      "execution_count": null,
      "id": "9fa576d6",
      "metadata": {
        "id": "9fa576d6"
      },
      "outputs": [],
      "source": [
        " X_train, X_test, y_train, y_test = train_test_split(X, y, test_size=0.3, random_state=42)\n",
        "\n",
        "# Con esta instrucción dividimos los datos en cuatro conjuntos:\n",
        "# X_train, y_train  datos de entrenamiento\n",
        "# X_test,  y_test   datos de prueba\n",
        "# el de entrenamiento contiene el 70% de los datos\n",
        "# el de prueba tiene el 30% de los datos (por eso el valor test_size=0.3)\n",
        "# random_state es para que los seleccione de manera aleatorria, 42 en la semila de aleatorización, puede ser cualquier número"
      ]
    },
    {
      "cell_type": "code",
      "execution_count": null,
      "id": "653p5JTIdWGH",
      "metadata": {
        "colab": {
          "base_uri": "https://localhost:8080/",
          "height": 303
        },
        "id": "653p5JTIdWGH",
        "outputId": "082cf526-4637-4f32-d36f-7ee81d115f6f"
      },
      "outputs": [
        {
          "data": {
            "text/html": [
              "<div>\n",
              "<style scoped>\n",
              "    .dataframe tbody tr th:only-of-type {\n",
              "        vertical-align: middle;\n",
              "    }\n",
              "\n",
              "    .dataframe tbody tr th {\n",
              "        vertical-align: top;\n",
              "    }\n",
              "\n",
              "    .dataframe thead th {\n",
              "        text-align: right;\n",
              "    }\n",
              "</style>\n",
              "<table border=\"1\" class=\"dataframe\">\n",
              "  <thead>\n",
              "    <tr style=\"text-align: right;\">\n",
              "      <th></th>\n",
              "      <th>Llamadas</th>\n",
              "    </tr>\n",
              "  </thead>\n",
              "  <tbody>\n",
              "    <tr>\n",
              "      <th>0</th>\n",
              "      <td>20</td>\n",
              "    </tr>\n",
              "    <tr>\n",
              "      <th>7</th>\n",
              "      <td>20</td>\n",
              "    </tr>\n",
              "    <tr>\n",
              "      <th>2</th>\n",
              "      <td>20</td>\n",
              "    </tr>\n",
              "    <tr>\n",
              "      <th>9</th>\n",
              "      <td>30</td>\n",
              "    </tr>\n",
              "    <tr>\n",
              "      <th>4</th>\n",
              "      <td>10</td>\n",
              "    </tr>\n",
              "    <tr>\n",
              "      <th>3</th>\n",
              "      <td>30</td>\n",
              "    </tr>\n",
              "    <tr>\n",
              "      <th>6</th>\n",
              "      <td>20</td>\n",
              "    </tr>\n",
              "  </tbody>\n",
              "</table>\n",
              "</div><br><label><b>dtype:</b> int64</label>"
            ],
            "text/plain": [
              "0    20\n",
              "7    20\n",
              "2    20\n",
              "9    30\n",
              "4    10\n",
              "3    30\n",
              "6    20\n",
              "Name: Llamadas, dtype: int64"
            ]
          },
          "execution_count": 15,
          "metadata": {},
          "output_type": "execute_result"
        }
      ],
      "source": [
        "X_train # vemos cómo quedó"
      ]
    },
    {
      "cell_type": "code",
      "execution_count": null,
      "id": "C5hRkfSNdWTj",
      "metadata": {
        "colab": {
          "base_uri": "https://localhost:8080/",
          "height": 303
        },
        "id": "C5hRkfSNdWTj",
        "outputId": "dac32dc2-f9ff-4501-88c1-43118dfe39c4"
      },
      "outputs": [
        {
          "data": {
            "text/html": [
              "<div>\n",
              "<style scoped>\n",
              "    .dataframe tbody tr th:only-of-type {\n",
              "        vertical-align: middle;\n",
              "    }\n",
              "\n",
              "    .dataframe tbody tr th {\n",
              "        vertical-align: top;\n",
              "    }\n",
              "\n",
              "    .dataframe thead th {\n",
              "        text-align: right;\n",
              "    }\n",
              "</style>\n",
              "<table border=\"1\" class=\"dataframe\">\n",
              "  <thead>\n",
              "    <tr style=\"text-align: right;\">\n",
              "      <th></th>\n",
              "      <th>Ventas</th>\n",
              "    </tr>\n",
              "  </thead>\n",
              "  <tbody>\n",
              "    <tr>\n",
              "      <th>0</th>\n",
              "      <td>30</td>\n",
              "    </tr>\n",
              "    <tr>\n",
              "      <th>7</th>\n",
              "      <td>50</td>\n",
              "    </tr>\n",
              "    <tr>\n",
              "      <th>2</th>\n",
              "      <td>40</td>\n",
              "    </tr>\n",
              "    <tr>\n",
              "      <th>9</th>\n",
              "      <td>70</td>\n",
              "    </tr>\n",
              "    <tr>\n",
              "      <th>4</th>\n",
              "      <td>30</td>\n",
              "    </tr>\n",
              "    <tr>\n",
              "      <th>3</th>\n",
              "      <td>60</td>\n",
              "    </tr>\n",
              "    <tr>\n",
              "      <th>6</th>\n",
              "      <td>40</td>\n",
              "    </tr>\n",
              "  </tbody>\n",
              "</table>\n",
              "</div><br><label><b>dtype:</b> int64</label>"
            ],
            "text/plain": [
              "0    30\n",
              "7    50\n",
              "2    40\n",
              "9    70\n",
              "4    30\n",
              "3    60\n",
              "6    40\n",
              "Name: Ventas, dtype: int64"
            ]
          },
          "execution_count": 16,
          "metadata": {},
          "output_type": "execute_result"
        }
      ],
      "source": [
        "y_train   # vemos cómo quedó"
      ]
    },
    {
      "cell_type": "code",
      "execution_count": null,
      "id": "osumEoZFdWeo",
      "metadata": {
        "colab": {
          "base_uri": "https://localhost:8080/",
          "height": 178
        },
        "id": "osumEoZFdWeo",
        "outputId": "1857f65b-a537-46d0-d613-aab95a67b14b"
      },
      "outputs": [
        {
          "data": {
            "text/html": [
              "<div>\n",
              "<style scoped>\n",
              "    .dataframe tbody tr th:only-of-type {\n",
              "        vertical-align: middle;\n",
              "    }\n",
              "\n",
              "    .dataframe tbody tr th {\n",
              "        vertical-align: top;\n",
              "    }\n",
              "\n",
              "    .dataframe thead th {\n",
              "        text-align: right;\n",
              "    }\n",
              "</style>\n",
              "<table border=\"1\" class=\"dataframe\">\n",
              "  <thead>\n",
              "    <tr style=\"text-align: right;\">\n",
              "      <th></th>\n",
              "      <th>Llamadas</th>\n",
              "    </tr>\n",
              "  </thead>\n",
              "  <tbody>\n",
              "    <tr>\n",
              "      <th>8</th>\n",
              "      <td>20</td>\n",
              "    </tr>\n",
              "    <tr>\n",
              "      <th>1</th>\n",
              "      <td>40</td>\n",
              "    </tr>\n",
              "    <tr>\n",
              "      <th>5</th>\n",
              "      <td>10</td>\n",
              "    </tr>\n",
              "  </tbody>\n",
              "</table>\n",
              "</div><br><label><b>dtype:</b> int64</label>"
            ],
            "text/plain": [
              "8    20\n",
              "1    40\n",
              "5    10\n",
              "Name: Llamadas, dtype: int64"
            ]
          },
          "execution_count": 17,
          "metadata": {},
          "output_type": "execute_result"
        }
      ],
      "source": [
        "X_test  # vemos cómo quedó"
      ]
    },
    {
      "cell_type": "code",
      "execution_count": null,
      "id": "VLgYD5-LdWtM",
      "metadata": {
        "colab": {
          "base_uri": "https://localhost:8080/",
          "height": 178
        },
        "id": "VLgYD5-LdWtM",
        "outputId": "91079ebe-a54c-427a-8b09-f4f0a426b178"
      },
      "outputs": [
        {
          "data": {
            "text/html": [
              "<div>\n",
              "<style scoped>\n",
              "    .dataframe tbody tr th:only-of-type {\n",
              "        vertical-align: middle;\n",
              "    }\n",
              "\n",
              "    .dataframe tbody tr th {\n",
              "        vertical-align: top;\n",
              "    }\n",
              "\n",
              "    .dataframe thead th {\n",
              "        text-align: right;\n",
              "    }\n",
              "</style>\n",
              "<table border=\"1\" class=\"dataframe\">\n",
              "  <thead>\n",
              "    <tr style=\"text-align: right;\">\n",
              "      <th></th>\n",
              "      <th>Ventas</th>\n",
              "    </tr>\n",
              "  </thead>\n",
              "  <tbody>\n",
              "    <tr>\n",
              "      <th>8</th>\n",
              "      <td>30</td>\n",
              "    </tr>\n",
              "    <tr>\n",
              "      <th>1</th>\n",
              "      <td>60</td>\n",
              "    </tr>\n",
              "    <tr>\n",
              "      <th>5</th>\n",
              "      <td>40</td>\n",
              "    </tr>\n",
              "  </tbody>\n",
              "</table>\n",
              "</div><br><label><b>dtype:</b> int64</label>"
            ],
            "text/plain": [
              "8    30\n",
              "1    60\n",
              "5    40\n",
              "Name: Ventas, dtype: int64"
            ]
          },
          "execution_count": 18,
          "metadata": {},
          "output_type": "execute_result"
        }
      ],
      "source": [
        "y_test  # vemos cómo quedó"
      ]
    },
    {
      "cell_type": "code",
      "execution_count": null,
      "id": "a44d718d",
      "metadata": {
        "id": "a44d718d"
      },
      "outputs": [],
      "source": [
        "regl = linear_model.LinearRegression()\n",
        "# Hacemos la instancia para la función de regresión lineal"
      ]
    },
    {
      "cell_type": "code",
      "execution_count": null,
      "id": "f080c18f",
      "metadata": {
        "id": "f080c18f"
      },
      "outputs": [],
      "source": [
        "X_train = np.array(X_train)\n",
        "# lo convertimos a array para que en la línea siguiente redimensionar con reshape\n",
        "# hacemos este paso para redimensionar el array, porque solo tenemos una\n",
        "# variable"
      ]
    },
    {
      "cell_type": "code",
      "execution_count": null,
      "id": "07d0aac8",
      "metadata": {
        "colab": {
          "base_uri": "https://localhost:8080/",
          "height": 74
        },
        "id": "07d0aac8",
        "outputId": "7110152f-7f8a-404d-c8df-64b116d8ff7e"
      },
      "outputs": [
        {
          "data": {
            "text/html": [
              "<style>#sk-container-id-1 {color: black;}#sk-container-id-1 pre{padding: 0;}#sk-container-id-1 div.sk-toggleable {background-color: white;}#sk-container-id-1 label.sk-toggleable__label {cursor: pointer;display: block;width: 100%;margin-bottom: 0;padding: 0.3em;box-sizing: border-box;text-align: center;}#sk-container-id-1 label.sk-toggleable__label-arrow:before {content: \"▸\";float: left;margin-right: 0.25em;color: #696969;}#sk-container-id-1 label.sk-toggleable__label-arrow:hover:before {color: black;}#sk-container-id-1 div.sk-estimator:hover label.sk-toggleable__label-arrow:before {color: black;}#sk-container-id-1 div.sk-toggleable__content {max-height: 0;max-width: 0;overflow: hidden;text-align: left;background-color: #f0f8ff;}#sk-container-id-1 div.sk-toggleable__content pre {margin: 0.2em;color: black;border-radius: 0.25em;background-color: #f0f8ff;}#sk-container-id-1 input.sk-toggleable__control:checked~div.sk-toggleable__content {max-height: 200px;max-width: 100%;overflow: auto;}#sk-container-id-1 input.sk-toggleable__control:checked~label.sk-toggleable__label-arrow:before {content: \"▾\";}#sk-container-id-1 div.sk-estimator input.sk-toggleable__control:checked~label.sk-toggleable__label {background-color: #d4ebff;}#sk-container-id-1 div.sk-label input.sk-toggleable__control:checked~label.sk-toggleable__label {background-color: #d4ebff;}#sk-container-id-1 input.sk-hidden--visually {border: 0;clip: rect(1px 1px 1px 1px);clip: rect(1px, 1px, 1px, 1px);height: 1px;margin: -1px;overflow: hidden;padding: 0;position: absolute;width: 1px;}#sk-container-id-1 div.sk-estimator {font-family: monospace;background-color: #f0f8ff;border: 1px dotted black;border-radius: 0.25em;box-sizing: border-box;margin-bottom: 0.5em;}#sk-container-id-1 div.sk-estimator:hover {background-color: #d4ebff;}#sk-container-id-1 div.sk-parallel-item::after {content: \"\";width: 100%;border-bottom: 1px solid gray;flex-grow: 1;}#sk-container-id-1 div.sk-label:hover label.sk-toggleable__label {background-color: #d4ebff;}#sk-container-id-1 div.sk-serial::before {content: \"\";position: absolute;border-left: 1px solid gray;box-sizing: border-box;top: 0;bottom: 0;left: 50%;z-index: 0;}#sk-container-id-1 div.sk-serial {display: flex;flex-direction: column;align-items: center;background-color: white;padding-right: 0.2em;padding-left: 0.2em;position: relative;}#sk-container-id-1 div.sk-item {position: relative;z-index: 1;}#sk-container-id-1 div.sk-parallel {display: flex;align-items: stretch;justify-content: center;background-color: white;position: relative;}#sk-container-id-1 div.sk-item::before, #sk-container-id-1 div.sk-parallel-item::before {content: \"\";position: absolute;border-left: 1px solid gray;box-sizing: border-box;top: 0;bottom: 0;left: 50%;z-index: -1;}#sk-container-id-1 div.sk-parallel-item {display: flex;flex-direction: column;z-index: 1;position: relative;background-color: white;}#sk-container-id-1 div.sk-parallel-item:first-child::after {align-self: flex-end;width: 50%;}#sk-container-id-1 div.sk-parallel-item:last-child::after {align-self: flex-start;width: 50%;}#sk-container-id-1 div.sk-parallel-item:only-child::after {width: 0;}#sk-container-id-1 div.sk-dashed-wrapped {border: 1px dashed gray;margin: 0 0.4em 0.5em 0.4em;box-sizing: border-box;padding-bottom: 0.4em;background-color: white;}#sk-container-id-1 div.sk-label label {font-family: monospace;font-weight: bold;display: inline-block;line-height: 1.2em;}#sk-container-id-1 div.sk-label-container {text-align: center;}#sk-container-id-1 div.sk-container {/* jupyter's `normalize.less` sets `[hidden] { display: none; }` but bootstrap.min.css set `[hidden] { display: none !important; }` so we also need the `!important` here to be able to override the default hidden behavior on the sphinx rendered scikit-learn.org. See: https://github.com/scikit-learn/scikit-learn/issues/21755 */display: inline-block !important;position: relative;}#sk-container-id-1 div.sk-text-repr-fallback {display: none;}</style><div id=\"sk-container-id-1\" class=\"sk-top-container\"><div class=\"sk-text-repr-fallback\"><pre>LinearRegression()</pre><b>In a Jupyter environment, please rerun this cell to show the HTML representation or trust the notebook. <br />On GitHub, the HTML representation is unable to render, please try loading this page with nbviewer.org.</b></div><div class=\"sk-container\" hidden><div class=\"sk-item\"><div class=\"sk-estimator sk-toggleable\"><input class=\"sk-toggleable__control sk-hidden--visually\" id=\"sk-estimator-id-1\" type=\"checkbox\" checked><label for=\"sk-estimator-id-1\" class=\"sk-toggleable__label sk-toggleable__label-arrow\">LinearRegression</label><div class=\"sk-toggleable__content\"><pre>LinearRegression()</pre></div></div></div></div></div>"
            ],
            "text/plain": [
              "LinearRegression()"
            ]
          },
          "execution_count": 24,
          "metadata": {},
          "output_type": "execute_result"
        }
      ],
      "source": [
        "regl.fit(X_train.reshape(-1, 1), y_train)\n"
      ]
    },
    {
      "cell_type": "markdown",
      "id": "cDUOGzrjH0Y6",
      "metadata": {
        "id": "cDUOGzrjH0Y6"
      },
      "source": [
        "regl.fit  es la instrucción para realizar la regresión, recordar de las líneas anteriores que regl es la instancia de linear_model.LinearRegression"
      ]
    },
    {
      "cell_type": "markdown",
      "id": "qrKAd65dFbY_",
      "metadata": {
        "id": "qrKAd65dFbY_"
      },
      "source": [
        "Con la línea anterior hemos hecho el ajuste del modelo de regresión a los 7 datos de entrenamiento"
      ]
    },
    {
      "cell_type": "code",
      "execution_count": null,
      "id": "-RKoB7zfK14g",
      "metadata": {
        "id": "-RKoB7zfK14g"
      },
      "outputs": [],
      "source": [
        "X_test = np.array(X_test)"
      ]
    },
    {
      "cell_type": "code",
      "execution_count": null,
      "id": "5a64ff9b",
      "metadata": {
        "id": "5a64ff9b"
      },
      "outputs": [],
      "source": [
        "# Ya hemos entrenado u ajustado el modelo de regresión con los datos de entrenamiento,\n",
        "# ahora vamos a introducir los datos de prueba que están en X_test\n",
        "# para realizar la estimación (pronóstico) de las ventas\n",
        "pronostico = regl.predict(X_test.reshape(-1, 1))"
      ]
    },
    {
      "cell_type": "code",
      "execution_count": null,
      "id": "0e43db58",
      "metadata": {
        "colab": {
          "base_uri": "https://localhost:8080/"
        },
        "id": "0e43db58",
        "outputId": "21c309bd-8281-43fd-a16a-0c08a3030fc3"
      },
      "outputs": [
        {
          "data": {
            "text/plain": [
              "array([43., 81., 24.])"
            ]
          },
          "execution_count": 27,
          "metadata": {},
          "output_type": "execute_result"
        }
      ],
      "source": [
        "pronostico\n",
        "# los valores obtenidos fueron: 43, 81 y 24\n",
        "# los valores orginales eran 30, 60 y 40  (los que están en y_test)\n",
        "# para el primer valor se equivocó en 13 unidades (43-30)\n",
        "# NO HAY modelos de Regresión que sean exactos, SIEMPRE habrá errores en la predicción\n",
        "# lo IMPORTANTE es tratar que es error sea mínimo"
      ]
    },
    {
      "cell_type": "markdown",
      "id": "LL1AG44RwCyG",
      "metadata": {
        "id": "LL1AG44RwCyG"
      },
      "source": []
    },
    {
      "cell_type": "code",
      "execution_count": null,
      "id": "f11318aa",
      "metadata": {
        "colab": {
          "base_uri": "https://localhost:8080/"
        },
        "id": "f11318aa",
        "outputId": "f38ba09c-2071-4d82-f2a2-1884f6564817"
      },
      "outputs": [
        {
          "name": "stdout",
          "output_type": "stream",
          "text": [
            "Coeficiente:  [1.9]\n"
          ]
        }
      ],
      "source": [
        "print('Coeficiente: ', regl.coef_)"
      ]
    },
    {
      "cell_type": "code",
      "execution_count": null,
      "id": "ee08a1b0",
      "metadata": {
        "colab": {
          "base_uri": "https://localhost:8080/"
        },
        "id": "ee08a1b0",
        "outputId": "e54e1cab-0422-4ac4-eb5b-25865a00a3ba"
      },
      "outputs": [
        {
          "name": "stdout",
          "output_type": "stream",
          "text": [
            "Término independiente:  5.000000000000007\n"
          ]
        }
      ],
      "source": [
        "print('Término independiente: ', regl.intercept_)"
      ]
    },
    {
      "cell_type": "markdown",
      "id": "BEgIZLSWvUuL",
      "metadata": {
        "id": "BEgIZLSWvUuL"
      },
      "source": [
        "La ecuación de regresión nos queda así:\n",
        "\n",
        "y = 5 + 1.9 * X\n",
        "\n",
        "y = 5 + 1.9 * 20(llamadas)\n",
        "\n",
        "y = 43"
      ]
    },
    {
      "cell_type": "code",
      "execution_count": null,
      "id": "ea089a22",
      "metadata": {
        "colab": {
          "base_uri": "https://localhost:8080/"
        },
        "id": "ea089a22",
        "outputId": "760ae8d0-50e5-4e16-e2af-9dd2d7f3929d"
      },
      "outputs": [
        {
          "name": "stdout",
          "output_type": "stream",
          "text": [
            "Error cuadrado medio:  288.6666666666667\n"
          ]
        }
      ],
      "source": [
        "print ('Error cuadrado medio: ', mean_squared_error(y_test, pronostico))"
      ]
    },
    {
      "cell_type": "markdown",
      "id": "3U7-6eAYuwRy",
      "metadata": {
        "id": "3U7-6eAYuwRy"
      },
      "source": [
        "Si tuvieramos varios modelos, el mejor es el que tiene el menor error cuadrado medio.\n"
      ]
    },
    {
      "cell_type": "markdown",
      "id": "vk032uKoxL3E",
      "metadata": {
        "id": "vk032uKoxL3E"
      },
      "source": [
        " Este tipo de modelos de pronóstico los utilizamos para calcular valores que no conocemos, por ejemplo:\n",
        "\n",
        " queremos saber cuál sería el número de copiadoras vendidas si se hacen 25 llamadas ó 35 llamadas.\n",
        "\n"
      ]
    },
    {
      "cell_type": "code",
      "execution_count": null,
      "id": "SOD1VBItxlHR",
      "metadata": {
        "id": "SOD1VBItxlHR"
      },
      "outputs": [],
      "source": [
        "valores_nuevos = np.array([25,35])"
      ]
    },
    {
      "cell_type": "code",
      "execution_count": null,
      "id": "00711fa3",
      "metadata": {
        "colab": {
          "base_uri": "https://localhost:8080/"
        },
        "id": "00711fa3",
        "outputId": "9d3c1411-43fb-44fb-f354-6b4400d38e30"
      },
      "outputs": [
        {
          "data": {
            "text/plain": [
              "array([52.5, 71.5])"
            ]
          },
          "execution_count": 35,
          "metadata": {},
          "output_type": "execute_result"
        }
      ],
      "source": [
        "pronostico_nuevos = regl.predict(valores_nuevos.reshape(-1, 1))\n",
        "pronostico_nuevos"
      ]
    },
    {
      "cell_type": "markdown",
      "id": "Uhdh93hvyNpH",
      "metadata": {
        "id": "Uhdh93hvyNpH"
      },
      "source": [
        "Con 25 llamadas se estima que se venderían 52 copiadoras y con 35 llamadas se venderían 71 copiadoras"
      ]
    },
    {
      "cell_type": "markdown",
      "id": "_7I-a4_7yi2B",
      "metadata": {
        "id": "_7I-a4_7yi2B"
      },
      "source": [
        "Fin de la práctica"
      ]
    }
  ],
  "metadata": {
    "colab": {
      "provenance": []
    },
    "kernelspec": {
      "display_name": ".venv",
      "language": "python",
      "name": "python3"
    },
    "language_info": {
      "codemirror_mode": {
        "name": "ipython",
        "version": 3
      },
      "file_extension": ".py",
      "mimetype": "text/x-python",
      "name": "python",
      "nbconvert_exporter": "python",
      "pygments_lexer": "ipython3",
      "version": "3.12.11"
    }
  },
  "nbformat": 4,
  "nbformat_minor": 5
}
